{
  "nbformat": 4,
  "nbformat_minor": 0,
  "metadata": {
    "colab": {
      "name": "Attendance Tracking Calendar Export",
      "provenance": [],
      "collapsed_sections": [],
      "include_colab_link": true
    },
    "kernelspec": {
      "name": "python3",
      "display_name": "Python 3"
    },
    "language_info": {
      "name": "python"
    }
  },
  "cells": [
    {
      "cell_type": "markdown",
      "metadata": {
        "id": "view-in-github",
        "colab_type": "text"
      },
      "source": [
        "<a href=\"https://colab.research.google.com/github/VillageBookBuilders/Mentor-Dashboard-V2/blob/main/Attendance_Tracking_Calendar_Export.ipynb\" target=\"_parent\"><img src=\"https://colab.research.google.com/assets/colab-badge.svg\" alt=\"Open In Colab\"/></a>"
      ]
    },
    {
      "cell_type": "code",
      "execution_count": null,
      "metadata": {
        "id": "3bZwK5KysB9X",
        "colab": {
          "base_uri": "https://localhost:8080/",
          "height": 36
        },
        "outputId": "ef806c98-25cc-4d56-b472-934596cef54d"
      },
      "outputs": [
        {
          "output_type": "execute_result",
          "data": {
            "text/plain": [
              "'\\nISSUES\\n\\n\\n'"
            ],
            "application/vnd.google.colaboratory.intrinsic+json": {
              "type": "string"
            }
          },
          "metadata": {},
          "execution_count": 1
        }
      ],
      "source": [
        "#Attendance Tracking by using Calendar and Audit Log Data\n",
        "\n",
        "#Revision notes V0.14: Chaged google authentication service to use Google Auth\n",
        "\n",
        "'''\n",
        "ISSUES\n",
        "\n",
        "\n",
        "'''\n"
      ]
    },
    {
      "cell_type": "markdown",
      "source": [
        "# CONNECTING TO GOOGLE DRIVE"
      ],
      "metadata": {
        "id": "-e30JtYkfes_"
      }
    },
    {
      "cell_type": "code",
      "source": [
        "#connect colab to drive\n",
        "\n",
        "from google.colab import auth\n",
        "auth.authenticate_user()\n",
        "\n",
        "import gspread\n",
        "from google.auth import default\n",
        "creds, _ = default()\n",
        "\n",
        "gc = gspread.authorize(creds)\n"
      ],
      "metadata": {
        "id": "kSWZfJ6tsNA6"
      },
      "execution_count": null,
      "outputs": []
    },
    {
      "cell_type": "code",
      "source": [
        "#Imports\n",
        "import pandas as pd\n",
        "from datetime import date, timedelta\n",
        "import pytz\n",
        "from numpy.core.numeric import NaN\n",
        "import datetime\n",
        "import math\n",
        "\n"
      ],
      "metadata": {
        "id": "WhFJN5LatFdd"
      },
      "execution_count": null,
      "outputs": []
    },
    {
      "cell_type": "markdown",
      "source": [
        "#IMPORTANT GLOBAL VARIABLES"
      ],
      "metadata": {
        "id": "JxViOjjIYCAK"
      }
    },
    {
      "cell_type": "code",
      "source": [
        "mentor_email = 'mentor@villagebookbuilders.org' #Mentor program email address\n",
        "oracle_data       = 0                           #Data read from Oracle Database SQL Query\n",
        "google_data       = 0                           #Data read from Google Audit Log\n",
        "active_sessions   = 0                           #Active sessions recorded in Oracle db based on end date\n",
        "total_mentors     = 0                           #List of all mentors names in oracle db\n",
        "oracle_mentor_emails = []                       #list of all mentor emails in oracle db\n",
        "active_mentors    = 0                           #Mentor names that joined at least one session \n",
        "active_mentor_emails = []                       #List of mentor emails that joined at least one session\n",
        "mentor_programs   = []                          #Names of all mentor programs stored in oracle database\n",
        "mentors_not_registered = []                     #Names of all active mentors not logged in oracle database\n",
        "time_zone = 'America/Port_of_Spain'             #google_data['Date'][1][len(google_data['Date'][1])-3:] #TODO: change this hard coded time zone\n",
        "start = 0                                       #start date\n",
        "end = 0                                         #end date\n",
        "mentor_identifier = 'Mentor'                    #Mentor identifier\n",
        "mentee_identifier = 'Student'                   #Mentee identifier\n",
        "cal_id_len = 26                                 #usable calendar event id string length\n",
        "google_resource_identifier = '@resource.calendar.google.com'\n",
        "fire_flies_email = 'fred@fireflies.ai'\n",
        "attendance_spreadsheet_key = '1zdKt4k-d9tvi5pm_nyQj5KfdLhVcJSDL5ekrXwfkR1M'\n",
        "productivity_spreadsheet_key = '1ag6astOJXNwCJRz3vVu3gkGa_aMEi4E7VaeCj5ObbSk'\n",
        "attendance_info_url = f'https://docs.google.com/spreadsheets/d/{attendance_spreadsheet_key}/edit#gid=0'\n",
        "productivity_info_url = f'https://docs.google.com/spreadsheets/d/{productivity_spreadsheet_key}/edit#gid=0'\n",
        "mentee_comp_url = 'https://docs.google.com/spreadsheets/d/1JcJ99pX-pjMTCkFrLwjpaCJ_1FcJ2xZ7UqgBJHGFl9I/edit#gid=925063253'\n",
        "corporate_partner_url = 'https://docs.google.com/spreadsheets/d/1K9FtfVv-lzU0eQE4V27Qdb3zuj2t9d-WOxs2ZAA04kw/edit#gid=0'\n",
        "program_director_name = ['adeiso ghana', 'ahero kenya', 'biwi, malawi vbb mentor program', 'charity centre, zambia vbb mentor program', 'chebosi kenya', 'kadzakalowa malawi', 'maragoli kenya', 'mukono uganda', 'vima ghana'] #Actor names of program director accounts"
      ],
      "metadata": {
        "id": "l3A_o3ChYGG2"
      },
      "execution_count": null,
      "outputs": []
    },
    {
      "cell_type": "markdown",
      "source": [
        "# READING DATA SOURCES"
      ],
      "metadata": {
        "id": "B1NVU9iPfnsp"
      }
    },
    {
      "cell_type": "code",
      "source": [
        "#IMPORTANT: THE ONLY THINGS THAT YOU NEED TO CHANGE ARE THE GOOGLE SHEET URL's FOR THE CALENDAR DATA AND GOOGLE MEET AUDIT LOG DATA\n",
        "calendar_sheet_url = 'https://docs.google.com/spreadsheets/d/1sd95sw3A2o6ZZYLwCH-nT50nP87DADRbpCLWQbwg5-Y/edit#gid=0'\n",
        "audit_log_sheet_url = 'https://docs.google.com/spreadsheets/d/1N4nLRvP3kA5vqMo5QOKdrTBSmF2dJJOY1vMkekcaOMg/edit#gid=0'"
      ],
      "metadata": {
        "id": "ku207BpGp4gJ"
      },
      "execution_count": null,
      "outputs": []
    },
    {
      "cell_type": "code",
      "source": [
        "#Read Data Sources as pandas data frames\n",
        "\n",
        "#previous attendance data\n",
        "sheet_url = attendance_info_url\n",
        "attendance_path = sheet_url.replace('/edit#gid=', '/export?format=csv&gid=')\n",
        "#calendar_path = '/content/gdrive/MyDrive/Projects/Mentor_Dashboard_V2/3. Execution/SRC Code/Data/Calendar Data Export/Calendar Export UTC - Sheet1.csv' \n",
        "attendance_data = pd.read_csv(attendance_path, on_bad_lines='skip')\n",
        "\n",
        "#previous productivity data\n",
        "sheet_url = productivity_info_url\n",
        "productivity_path = sheet_url.replace('/edit#gid=', '/export?format=csv&gid=')\n",
        "#calendar_path = '/content/gdrive/MyDrive/Projects/Mentor_Dashboard_V2/3. Execution/SRC Code/Data/Calendar Data Export/Calendar Export UTC - Sheet1.csv' \n",
        "productivity_data = pd.read_csv(productivity_path, on_bad_lines='skip')\n",
        "\n",
        "#Calendar Data\n",
        "sheet_url = calendar_sheet_url\n",
        "calendar_path = sheet_url.replace('/edit#gid=', '/export?format=csv&gid=')\n",
        "#calendar_path = '/content/gdrive/MyDrive/Projects/Mentor_Dashboard_V2/3. Execution/SRC Code/Data/Calendar Data Export/Calendar Export UTC - Sheet1.csv' \n",
        "calendar_data = pd.read_csv(calendar_path, on_bad_lines='skip')\n",
        "\n",
        "#Google Audit Log Data\n",
        "sheet_url = audit_log_sheet_url\n",
        "google_path = sheet_url.replace('/edit#gid=', '/export?format=csv&gid=')\n",
        "#google_path = '/content/gdrive/MyDrive/Projects/Mentor_Dashboard_V2/3. Execution/SRC Code/Data/Google Audit Log/3 6 2022 - 3 12 2022/3_6_2022 - 3_12_2022.csv'\n",
        "google_data = pd.read_csv(google_path, on_bad_lines='skip')\n",
        "\n",
        "\n",
        "#Mentee Computer Emails\n",
        "sheet_url = mentee_comp_url\n",
        "mentee_email_path = sheet_url.replace('/edit#gid=', '/export?format=csv&gid=')\n",
        "#mentee_email_path = '/content/gdrive/MyDrive/Projects/Mentor_Dashboard_V2/3. Execution/SRC Code/Data/mentee email/Copy of Village Library Information - computer email.csv'\n",
        "mentee_computer_emails = pd.read_csv(mentee_email_path, on_bad_lines='skip')\n",
        "\n",
        "#Corporate Parners\n",
        "sheet_url = corporate_partner_url\n",
        "corporate_partners_path = sheet_url.replace('/edit#gid=', '/export?format=csv&gid=')\n",
        "#corporate_partners_path = '/content/gdrive/MyDrive/Projects/Mentor_Dashboard_V2/3. Execution/SRC Code/Data/Corporate Organizations/Corporate Partners.csv'\n",
        "corporate_partners = pd.read_csv(corporate_partners_path, on_bad_lines='skip')\n",
        "\n"
      ],
      "metadata": {
        "id": "ti3RqFW5uRou"
      },
      "execution_count": null,
      "outputs": []
    },
    {
      "cell_type": "code",
      "source": [
        "print(attendance_data.shape, productivity_data.shape, calendar_data.shape, google_data.shape, mentee_computer_emails.shape, corporate_partners.shape)"
      ],
      "metadata": {
        "id": "g1SxDj2NbH2Q",
        "colab": {
          "base_uri": "https://localhost:8080/"
        },
        "outputId": "fe5c0e77-5e10-4aeb-c251-7c8767bc85ff"
      },
      "execution_count": null,
      "outputs": [
        {
          "output_type": "stream",
          "name": "stdout",
          "text": [
            "(22940, 20) (5699, 9) (1589, 11) (433, 31) (146, 8) (3, 2)\n"
          ]
        }
      ]
    },
    {
      "cell_type": "markdown",
      "source": [
        "\n",
        "# CLEANING DATA"
      ],
      "metadata": {
        "id": "dx1dhULnfsJF"
      }
    },
    {
      "cell_type": "code",
      "source": [
        "#Calendar Data\n",
        "calendar_data = calendar_data.dropna() #remove all empty sessions\n",
        "calendar_data = calendar_data.drop_duplicates()\n",
        "calendar_data = calendar_data[(~calendar_data['Participant Identifier'].str.contains(google_resource_identifier)) & (calendar_data['Participant Identifier'] != fire_flies_email)]\n",
        "\n",
        "#Google Data\n",
        "google_data = google_data.dropna(subset=['Date', 'Meeting code', 'Actor', 'Organizer email', 'Duration (seconds)', 'Actor name', 'Calendar event ID']) #clean google data\n",
        "google_data = google_data.drop_duplicates()\n",
        "google_data = google_data[google_data['Duration (seconds)'] > 0] #drop all calls with 0 duration\n",
        "google_data = google_data[google_data['Organizer email'] == mentor_email] #only consider mentor sessions\n",
        "google_data = google_data[google_data['Actor name'] != 'Mentor Program'] #drop all entries for mentor program\n",
        "\n",
        "#Mentee Email data\n",
        "mentee_computer_emails = mentee_computer_emails.drop_duplicates(['COMPUTER_EMAIL'])\n",
        "\n",
        "#Corporate Parner data\n",
        "corporate_partners = corporate_partners.dropna()"
      ],
      "metadata": {
        "id": "ZV2uWWJafEtR"
      },
      "execution_count": null,
      "outputs": []
    },
    {
      "cell_type": "code",
      "source": [
        "print(calendar_data.shape, google_data.shape)"
      ],
      "metadata": {
        "id": "hZ6eWiC9kK7a",
        "colab": {
          "base_uri": "https://localhost:8080/"
        },
        "outputId": "91a8814f-e0ef-4338-ba49-106c9a76afde"
      },
      "execution_count": null,
      "outputs": [
        {
          "output_type": "stream",
          "name": "stdout",
          "text": [
            "(1138, 11) (361, 31)\n"
          ]
        }
      ]
    },
    {
      "cell_type": "code",
      "source": [
        "#DATE CONVERSIONS\n",
        "#Only run this once. Running more times will cause an error. To fix re-read data sources\n",
        "def conv_to_datetime(a):\n",
        "  utc_timezone = pytz.timezone('UTC')\n",
        "  if isinstance(a, datetime.date):\n",
        "    return a\n",
        "  try:\n",
        "    #Convert calendar export dates\n",
        "    date = datetime.datetime.strptime(a, '%m/%d/%Y %H:%M:%S')\n",
        "    date = date.replace(tzinfo = pytz.timezone('UTC')) \n",
        "    return date\n",
        "  except:\n",
        "    try:\n",
        "      #Convert Audit log dates \n",
        "      date = datetime.datetime.strptime(a, '%Y-%m-%dT%H:%M:%SZ')\n",
        "      date = date.replace(tzinfo = pytz.timezone('UTC')) \n",
        "      return  date\n",
        "    except:\n",
        "      date = datetime.datetime.strptime('', '')\n",
        "      date = date.replace(tzinfo = utc_timezone)\n",
        "      return date\n",
        "\n"
      ],
      "metadata": {
        "id": "_dfBR_DQcLEG"
      },
      "execution_count": null,
      "outputs": []
    },
    {
      "cell_type": "code",
      "source": [
        "#convert attendance data times to date time\n",
        "attendance_data['Start Datetime'] = attendance_data['Event Start UTC'].apply(conv_to_datetime)\n",
        "attendance_data['End Datetime'] = attendance_data['Event End UTC'].apply(conv_to_datetime)"
      ],
      "metadata": {
        "id": "foJi976Yg9uf"
      },
      "execution_count": null,
      "outputs": []
    },
    {
      "cell_type": "code",
      "source": [
        "#converting calendar dates to datetime objs\n",
        "calendar_data['Start Datetime'] = calendar_data['Event Start UTC'].apply(conv_to_datetime)\n",
        "calendar_data['End Datetime'] = calendar_data['Event End UTC'].apply(conv_to_datetime)\n",
        "\n"
      ],
      "metadata": {
        "id": "Z6ZxJul9orkg"
      },
      "execution_count": null,
      "outputs": []
    },
    {
      "cell_type": "code",
      "source": [
        "#Getting usable substring from Calendar Event ID\n",
        "calendar_data['Calendar event ID'] = calendar_data['Calendar event ID'].apply(lambda x: x[:cal_id_len])"
      ],
      "metadata": {
        "id": "pI97hNrbseLt"
      },
      "execution_count": null,
      "outputs": []
    },
    {
      "cell_type": "code",
      "source": [
        "#Convert google dates to datetime UTC\n",
        "#google_data['Date'] = google_data['Date'].apply(lambda x: x[:-4]) #remove time zone\n",
        "google_data['Date'] = google_data['Date'].apply(conv_to_datetime)"
      ],
      "metadata": {
        "id": "uKItSRAvj47X"
      },
      "execution_count": null,
      "outputs": []
    },
    {
      "cell_type": "code",
      "source": [
        "#Create new column with just dates\n",
        "google_data['String_Date'] = google_data['Date'].apply(lambda x: x.strftime(\"%m/%d/%Y\"))\n",
        "calendar_data['String_Date'] = calendar_data['Start Datetime'].apply(lambda x: x.strftime(\"%m/%d/%Y\"))"
      ],
      "metadata": {
        "id": "CF2vCaz8j4Vl"
      },
      "execution_count": null,
      "outputs": []
    },
    {
      "cell_type": "code",
      "source": [
        "#lower participant emails for accurate searches\n",
        "google_data['Actor'] = google_data['Actor'].apply(lambda x: x.lower())\n",
        "calendar_data['Participant Identifier'] = calendar_data['Participant Identifier'].apply(lambda x: x.lower())"
      ],
      "metadata": {
        "id": "z-QA2l-kcGGa"
      },
      "execution_count": null,
      "outputs": []
    },
    {
      "cell_type": "code",
      "source": [
        "#Drop duplicate sessions caused by people signing in from various devices at the same time\n",
        "#google_data = google_data.drop_duplicates(subset = ['Participant Identifier', 'Calendar event ID', 'String_Date', 'IP address'])"
      ],
      "metadata": {
        "id": "-z3SBDLFQP5m"
      },
      "execution_count": null,
      "outputs": []
    },
    {
      "cell_type": "code",
      "source": [
        "#list of mentee computer emails\n",
        "mentee_computer_emails_list = mentee_computer_emails['COMPUTER_EMAIL'].tolist()"
      ],
      "metadata": {
        "id": "UzIap4V-RxoF"
      },
      "execution_count": null,
      "outputs": []
    },
    {
      "cell_type": "markdown",
      "source": [
        "\n",
        "#TESTS"
      ],
      "metadata": {
        "id": "hX82uYWoX0qf"
      }
    },
    {
      "cell_type": "code",
      "source": [
        "#Testing the total number of unique mentors for this weekly dataset\n",
        "participants = google_data.drop_duplicates(subset = ['Actor'])\n",
        "participants = participants[participants['String_Date'] != '03/13/2022']"
      ],
      "metadata": {
        "id": "z_QF3w-pMCuo"
      },
      "execution_count": null,
      "outputs": []
    },
    {
      "cell_type": "code",
      "source": [
        "names = participants['Actor']\n",
        "student_emails = mentee_computer_emails['COMPUTER_EMAIL']\n",
        "len(names[~names.isin(student_emails)].tolist())"
      ],
      "metadata": {
        "id": "_s0GVBmjNDkV",
        "colab": {
          "base_uri": "https://localhost:8080/"
        },
        "outputId": "b74d0e79-39e4-4043-c42f-d22feac43f41"
      },
      "execution_count": null,
      "outputs": [
        {
          "output_type": "execute_result",
          "data": {
            "text/plain": [
              "125"
            ]
          },
          "metadata": {},
          "execution_count": 20
        }
      ]
    },
    {
      "cell_type": "code",
      "source": [
        "#Today's date\n",
        "today_date = datetime.datetime.today().replace(tzinfo = pytz.timezone(time_zone))\n",
        "\n",
        "#Start and end dates for schema 1\n",
        "dates_list = sorted(google_data['Date'].tolist())\n",
        "start1, end1 = dates_list[0], dates_list[-1] \n",
        "\n",
        "#Start and end dates for schema 2\n",
        "end, start = datetime.datetime(2022, 2, 27).astimezone(pytz.timezone(\"utc\")), datetime.datetime(2022, 3, 5).astimezone(pytz.timezone(\"utc\"))\n",
        "\n"
      ],
      "metadata": {
        "id": "Y55mCcMGrw_B"
      },
      "execution_count": null,
      "outputs": []
    },
    {
      "cell_type": "code",
      "source": [
        "print(start1, end1)\n",
        "print(start, end)"
      ],
      "metadata": {
        "id": "_TF_7t6dkN-_",
        "colab": {
          "base_uri": "https://localhost:8080/"
        },
        "outputId": "e7b0be54-db74-4574-9884-56efa33f4423"
      },
      "execution_count": null,
      "outputs": [
        {
          "output_type": "stream",
          "name": "stdout",
          "text": [
            "2022-05-15 11:07:57+00:00 2022-05-21 16:21:04+00:00\n",
            "2022-03-05 00:00:00+00:00 2022-02-27 00:00:00+00:00\n"
          ]
        }
      ]
    },
    {
      "cell_type": "markdown",
      "source": [
        "#ATTENDANCE AND DURATION TRACKING "
      ],
      "metadata": {
        "id": "NS6R-QbVbruy"
      }
    },
    {
      "cell_type": "code",
      "source": [
        "calendar_data['Attendance'] = [0]*len(calendar_data)\n",
        "calendar_data['Duration'] = [0]*len(calendar_data)\n",
        "calendar_data['User Type'] = [0]*len(calendar_data)\n",
        "calendar_data['Organization'] = [0]*len(calendar_data)\n",
        "#calendar_data['Punctuality'] = [NaN]*len(calendar_data)"
      ],
      "metadata": {
        "id": "ZWXDXlaw3DXu"
      },
      "execution_count": null,
      "outputs": []
    },
    {
      "cell_type": "code",
      "source": [
        "from os import putenv\n",
        "for index, meeting in calendar_data.iterrows():\n",
        "  attendance = 0\n",
        "  duration = 0\n",
        "  meeting_data = google_data[(google_data['Actor'] == meeting['Participant Identifier']) & (google_data['Calendar event ID'].str.contains(meeting['Calendar event ID'])) & (google_data['String_Date'] == meeting['String_Date'])]\n",
        "\n",
        "  if (len(meeting_data) > 0):\n",
        "    attendance = 1\n",
        "    duration = sum(meeting_data['Duration (seconds)'].tolist())/60 #duration in minutes\n",
        "\n",
        "  calendar_data['Attendance'][index] = attendance\n",
        "  calendar_data['Duration'][index] = duration\n",
        "  calendar_data['User Type'][index] = mentee_identifier if meeting['Participant Identifier'] in mentee_computer_emails_list else mentor_identifier\n",
        " \n",
        "\n",
        "  #Assigning corporate partners\n",
        "  partner_name = 'Public/Chapter'\n",
        "  for i, partner in corporate_partners.iterrows():\n",
        "    if partner['Email Identifier'] in meeting['Participant Identifier']:\n",
        "      partner_name = partner['Organization']\n",
        "      break;\n",
        "\n",
        "  calendar_data['Organization'][index] = partner_name\n",
        "\n"
      ],
      "metadata": {
        "id": "PjVBygrn1xWu",
        "colab": {
          "base_uri": "https://localhost:8080/"
        },
        "outputId": "5331911a-6bb3-491e-9864-a925aca11e87"
      },
      "execution_count": null,
      "outputs": [
        {
          "output_type": "stream",
          "name": "stderr",
          "text": [
            "/usr/local/lib/python3.7/dist-packages/ipykernel_launcher.py:11: SettingWithCopyWarning: \n",
            "A value is trying to be set on a copy of a slice from a DataFrame\n",
            "\n",
            "See the caveats in the documentation: https://pandas.pydata.org/pandas-docs/stable/user_guide/indexing.html#returning-a-view-versus-a-copy\n",
            "  # This is added back by InteractiveShellApp.init_path()\n",
            "/usr/local/lib/python3.7/dist-packages/ipykernel_launcher.py:12: SettingWithCopyWarning: \n",
            "A value is trying to be set on a copy of a slice from a DataFrame\n",
            "\n",
            "See the caveats in the documentation: https://pandas.pydata.org/pandas-docs/stable/user_guide/indexing.html#returning-a-view-versus-a-copy\n",
            "  if sys.path[0] == '':\n",
            "/usr/local/lib/python3.7/dist-packages/ipykernel_launcher.py:13: SettingWithCopyWarning: \n",
            "A value is trying to be set on a copy of a slice from a DataFrame\n",
            "\n",
            "See the caveats in the documentation: https://pandas.pydata.org/pandas-docs/stable/user_guide/indexing.html#returning-a-view-versus-a-copy\n",
            "  del sys.path[0]\n",
            "/usr/local/lib/python3.7/dist-packages/pandas/core/indexing.py:1732: SettingWithCopyWarning: \n",
            "A value is trying to be set on a copy of a slice from a DataFrame\n",
            "\n",
            "See the caveats in the documentation: https://pandas.pydata.org/pandas-docs/stable/user_guide/indexing.html#returning-a-view-versus-a-copy\n",
            "  self._setitem_single_block(indexer, value, name)\n",
            "/usr/local/lib/python3.7/dist-packages/ipykernel_launcher.py:23: SettingWithCopyWarning: \n",
            "A value is trying to be set on a copy of a slice from a DataFrame\n",
            "\n",
            "See the caveats in the documentation: https://pandas.pydata.org/pandas-docs/stable/user_guide/indexing.html#returning-a-view-versus-a-copy\n"
          ]
        }
      ]
    },
    {
      "cell_type": "code",
      "source": [
        "calendar_data['Missed_2'] = [0]*len(calendar_data)\n",
        "calendar_data['Missed_3'] = [0]*len(calendar_data)"
      ],
      "metadata": {
        "id": "PJAABO6hurip"
      },
      "execution_count": null,
      "outputs": []
    },
    {
      "cell_type": "code",
      "source": [
        "#TODO: Write to complete list of attendance data here"
      ],
      "metadata": {
        "id": "jMsbY67Qgw-N"
      },
      "execution_count": null,
      "outputs": []
    },
    {
      "cell_type": "markdown",
      "source": [
        "#FINDING MENTOR THAT MISSED LAST 2 OR 3 SESSIONS"
      ],
      "metadata": {
        "id": "1396xbwSukJb"
      }
    },
    {
      "cell_type": "code",
      "source": [
        "#Identify mentors that have missed 2 or 3 of their last sessions. "
      ],
      "metadata": {
        "id": "_PSURBCF6eTg"
      },
      "execution_count": null,
      "outputs": []
    },
    {
      "cell_type": "code",
      "source": [
        "for index, meeting in calendar_data.iterrows():\n",
        "\n",
        "  #Get previous meetings regarless of id\n",
        "  #TODO: Read from complete list of attendance data here, also find how to return max 3 entires \n",
        "  previous_meetings_1 = attendance_data[(attendance_data['Start Datetime'] <= meeting['Start Datetime']) & (attendance_data['Participant Identifier'] == meeting['Participant Identifier'])]\n",
        "  previous_meetings_2 = calendar_data[(calendar_data['Start Datetime'] <= meeting['Start Datetime']) & (calendar_data['Participant Identifier'] == meeting['Participant Identifier'])] # & (calendar_data['Calendar event ID'] == meeting['Calendar event ID'])]\n",
        "  \n",
        "  previous_meetings = pd.concat([previous_meetings_1, previous_meetings_2])\n",
        "\n",
        "  if (len(previous_meetings)>=3):\n",
        "    last_3 = 0 if sum(previous_meetings['Attendance'].tolist()[-3:]) else 1\n",
        "    last_2 = 0 if sum(previous_meetings['Attendance'].tolist()[-2:]) else 1\n",
        "  elif (len(previous_meetings) == 2):\n",
        "    last_3 = 0\n",
        "    last_2 = 0 if sum(previous_meetings['Attendance'].tolist()) else 1\n",
        "  else:\n",
        "    last_3 = 0\n",
        "    last_2 = 0\n",
        "  \n",
        "  #updating data frame \n",
        "  calendar_data['Missed_2'][index] = last_2\n",
        "  calendar_data['Missed_3'][index] = last_3"
      ],
      "metadata": {
        "id": "JiJZ6I0CwuKL",
        "colab": {
          "base_uri": "https://localhost:8080/"
        },
        "outputId": "7d1cd7fc-0e7c-4b86-e8bf-caa504456848"
      },
      "execution_count": null,
      "outputs": [
        {
          "output_type": "stream",
          "name": "stderr",
          "text": [
            "/usr/local/lib/python3.7/dist-packages/ipykernel_launcher.py:21: SettingWithCopyWarning: \n",
            "A value is trying to be set on a copy of a slice from a DataFrame\n",
            "\n",
            "See the caveats in the documentation: https://pandas.pydata.org/pandas-docs/stable/user_guide/indexing.html#returning-a-view-versus-a-copy\n",
            "/usr/local/lib/python3.7/dist-packages/ipykernel_launcher.py:22: SettingWithCopyWarning: \n",
            "A value is trying to be set on a copy of a slice from a DataFrame\n",
            "\n",
            "See the caveats in the documentation: https://pandas.pydata.org/pandas-docs/stable/user_guide/indexing.html#returning-a-view-versus-a-copy\n"
          ]
        }
      ]
    },
    {
      "cell_type": "code",
      "source": [
        "print(attendance_data.shape, calendar_data.shape)"
      ],
      "metadata": {
        "id": "dD3XOTIsBN8s",
        "colab": {
          "base_uri": "https://localhost:8080/"
        },
        "outputId": "f20afd06-8d7c-450f-e487-daad3d58f1d6"
      },
      "execution_count": null,
      "outputs": [
        {
          "output_type": "stream",
          "name": "stdout",
          "text": [
            "(22940, 20) (1138, 20)\n"
          ]
        }
      ]
    },
    {
      "cell_type": "code",
      "source": [
        "#Concat new and old data\n",
        "attendance_data_new = pd.concat([attendance_data, calendar_data])\n",
        "attendance_data_new = attendance_data_new.drop_duplicates(subset=['String_Date', 'Calendar event ID', 'Participant Identifier'], keep='last')"
      ],
      "metadata": {
        "id": "JnxrnPaPjwSw"
      },
      "execution_count": null,
      "outputs": []
    },
    {
      "cell_type": "code",
      "source": [
        "print(attendance_data_new.shape)"
      ],
      "metadata": {
        "id": "lR0PsAqrj7KA",
        "colab": {
          "base_uri": "https://localhost:8080/"
        },
        "outputId": "ddb522ed-1570-4211-fb68-0a83948ad95a"
      },
      "execution_count": null,
      "outputs": [
        {
          "output_type": "stream",
          "name": "stdout",
          "text": [
            "(24078, 20)\n"
          ]
        }
      ]
    },
    {
      "cell_type": "code",
      "source": [
        "#TODO: merge actor names to calendar_data based on participant identifier\n",
        "# actor_names = google_data[['Participant Identifier', 'Actor name']].drop_duplicates(subset = ['Participant Identifier'])\n",
        "# print(actor_names.shape)\n",
        "# actor_names = calendar_data[['Participant Identifier']].drop_duplicates(subset = ['Participant Identifier'])\n",
        "# print(actor_names.shape)\n",
        "\n",
        "# #Merge actor names\n",
        "# result = calendar_data#pd.merge(calendar_data, actor_names, on='Participant Identifier')"
      ],
      "metadata": {
        "id": "VuIigK5VLXrg"
      },
      "execution_count": null,
      "outputs": []
    },
    {
      "cell_type": "markdown",
      "source": [
        "# STORING ATTENDANCE DATA"
      ],
      "metadata": {
        "id": "szbJwZlCR-aS"
      }
    },
    {
      "cell_type": "code",
      "source": [
        "#Create data frame and store\n",
        "#TODO: write to complete list of all attendance data; over write any redundant data\n",
        "file_name = 'all_attendance_data.csv'\n",
        "attendance_data_new.to_csv(file_name, index = False)"
      ],
      "metadata": {
        "id": "81jJRckUR9MQ"
      },
      "execution_count": null,
      "outputs": []
    },
    {
      "cell_type": "markdown",
      "source": [
        "#FINDING PRODUCTIVE AND ALONE MEETINGS"
      ],
      "metadata": {
        "id": "HlPj2mEn7L4w"
      }
    },
    {
      "cell_type": "code",
      "source": [
        "#XOR function\n",
        "def xor(a, b):\n",
        "  if((a and b) or (not a and not b)):\n",
        "    return False\n",
        "  else:\n",
        "    return True"
      ],
      "metadata": {
        "id": "Z95pzUxGGPMY"
      },
      "execution_count": null,
      "outputs": []
    },
    {
      "cell_type": "code",
      "source": [
        "#Convert list to string \n",
        "def listToString(s): \n",
        "    \n",
        "    # initialize an empty string\n",
        "    str1 = \"\" \n",
        "    \n",
        "    # traverse in the string  \n",
        "    for ele in s: \n",
        "        str1 += ele + \", \"  \n",
        "    \n",
        "    # return string  \n",
        "    return str1"
      ],
      "metadata": {
        "id": "5XiA2lDKVdTW"
      },
      "execution_count": null,
      "outputs": []
    },
    {
      "cell_type": "code",
      "source": [
        "#A productive meeting will be a meeting in which at least one mentor and one mentee attended"
      ],
      "metadata": {
        "id": "RYQXO2iEb2f3"
      },
      "execution_count": null,
      "outputs": []
    },
    {
      "cell_type": "code",
      "source": [
        "#Get all meetings per day \n",
        "productive_meetings  = calendar_data[['String_Date', 'Start Datetime' ,'Calendar event ID', 'Program Name']].drop_duplicates(subset=['String_Date', 'Calendar event ID'])\n",
        "productive_meetings['Productive'] = [0]*len(productive_meetings)\n",
        "productive_meetings['Alone'] = [0]*len(productive_meetings)\n",
        "productive_meetings['Absent Type'] = [NaN]*len(productive_meetings)\n",
        "productive_meetings['Absent Identifier'] = [NaN]*len(productive_meetings)"
      ],
      "metadata": {
        "id": "kBK_1M3fFzDU"
      },
      "execution_count": null,
      "outputs": []
    },
    {
      "cell_type": "code",
      "source": [
        "#Get meeting start hour from datetime\n",
        "productive_meetings['Meet Time'] = productive_meetings['Start Datetime'].apply(lambda x: x.strftime('%H:%M'))"
      ],
      "metadata": {
        "id": "S5Yg_lKfjfWz"
      },
      "execution_count": null,
      "outputs": []
    },
    {
      "cell_type": "code",
      "source": [
        "#For each meeting in each day see if the meeting was productive\n",
        "\n",
        "for index, meeting in productive_meetings.iterrows():\n",
        "  \n",
        "  mentor_attendance = sum(calendar_data[(calendar_data['String_Date'] == meeting['String_Date']) & (calendar_data['Calendar event ID'].str.contains(meeting['Calendar event ID'])) & (calendar_data['User Type'] == mentor_identifier)]['Attendance'].tolist())\n",
        "  mentee_attendance = sum(calendar_data[(calendar_data['String_Date'] == meeting['String_Date']) & (calendar_data['Calendar event ID'].str.contains(meeting['Calendar event ID'])) & (calendar_data['User Type'] == mentee_identifier)]['Attendance'].tolist())\n",
        "\n",
        "  #if session was productive\n",
        "  if(mentor_attendance and mentee_attendance):\n",
        "    productive_meetings['Productive'][index] = 1\n",
        "    productive_meetings['Absent Type'][index] = NaN\n",
        "\n",
        "  #If only one particpant showed\n",
        "  elif(xor(mentor_attendance, mentee_attendance)):\n",
        "    #if only one participant joined, record as Alone Session\n",
        "    productive_meetings['Alone'][index] = 1      \n",
        "\n",
        "    #get absentee type\n",
        "    if mentee_attendance:\n",
        "      productive_meetings['Absent Type'][index] = mentor_identifier\n",
        "      productive_meetings['Absent Identifier'][index] = listToString(calendar_data[(calendar_data['String_Date'] == meeting['String_Date']) & (calendar_data['Calendar event ID'].str.contains(meeting['Calendar event ID'])) & (calendar_data['User Type'] == mentor_identifier)]['Participant Identifier'].tolist())\n",
        "    else:\n",
        "      if mentor_attendance:\n",
        "        productive_meetings['Absent Type'][index] = mentee_identifier\n",
        "        productive_meetings['Absent Identifier'][index] = listToString(calendar_data[(calendar_data['String_Date'] == meeting['String_Date']) & (calendar_data['Calendar event ID'].str.contains(meeting['Calendar event ID'])) & (calendar_data['User Type'] == mentee_identifier)]['Participant Identifier'].tolist())\n",
        "\n",
        "  #if no one showed\n",
        "  if(not productive_meetings['Productive'][index] and not productive_meetings['Alone'][index]):\n",
        "    productive_meetings['Absent Type'][index] = NaN\n",
        "\n",
        "      \n",
        "      #productive_meetings['Absent Type'][index] = (mentor_identifier if mentee_attendance else (mentee_identifier if mentor_attendance else NaN))\n",
        "    "
      ],
      "metadata": {
        "id": "iMjBoEw_dNQL",
        "colab": {
          "base_uri": "https://localhost:8080/"
        },
        "outputId": "d3909a25-bcae-4e63-d220-c5909e6366db"
      },
      "execution_count": null,
      "outputs": [
        {
          "output_type": "stream",
          "name": "stderr",
          "text": [
            "/usr/local/lib/python3.7/dist-packages/ipykernel_launcher.py:29: SettingWithCopyWarning: \n",
            "A value is trying to be set on a copy of a slice from a DataFrame\n",
            "\n",
            "See the caveats in the documentation: https://pandas.pydata.org/pandas-docs/stable/user_guide/indexing.html#returning-a-view-versus-a-copy\n",
            "/usr/local/lib/python3.7/dist-packages/ipykernel_launcher.py:10: SettingWithCopyWarning: \n",
            "A value is trying to be set on a copy of a slice from a DataFrame\n",
            "\n",
            "See the caveats in the documentation: https://pandas.pydata.org/pandas-docs/stable/user_guide/indexing.html#returning-a-view-versus-a-copy\n",
            "  # Remove the CWD from sys.path while we load stuff.\n",
            "/usr/local/lib/python3.7/dist-packages/ipykernel_launcher.py:11: SettingWithCopyWarning: \n",
            "A value is trying to be set on a copy of a slice from a DataFrame\n",
            "\n",
            "See the caveats in the documentation: https://pandas.pydata.org/pandas-docs/stable/user_guide/indexing.html#returning-a-view-versus-a-copy\n",
            "  # This is added back by InteractiveShellApp.init_path()\n",
            "/usr/local/lib/python3.7/dist-packages/ipykernel_launcher.py:16: SettingWithCopyWarning: \n",
            "A value is trying to be set on a copy of a slice from a DataFrame\n",
            "\n",
            "See the caveats in the documentation: https://pandas.pydata.org/pandas-docs/stable/user_guide/indexing.html#returning-a-view-versus-a-copy\n",
            "  app.launch_new_instance()\n",
            "/usr/local/lib/python3.7/dist-packages/ipykernel_launcher.py:20: SettingWithCopyWarning: \n",
            "A value is trying to be set on a copy of a slice from a DataFrame\n",
            "\n",
            "See the caveats in the documentation: https://pandas.pydata.org/pandas-docs/stable/user_guide/indexing.html#returning-a-view-versus-a-copy\n",
            "/usr/local/lib/python3.7/dist-packages/pandas/core/indexing.py:1732: SettingWithCopyWarning: \n",
            "A value is trying to be set on a copy of a slice from a DataFrame\n",
            "\n",
            "See the caveats in the documentation: https://pandas.pydata.org/pandas-docs/stable/user_guide/indexing.html#returning-a-view-versus-a-copy\n",
            "  self._setitem_single_block(indexer, value, name)\n",
            "/usr/local/lib/python3.7/dist-packages/ipykernel_launcher.py:21: SettingWithCopyWarning: \n",
            "A value is trying to be set on a copy of a slice from a DataFrame\n",
            "\n",
            "See the caveats in the documentation: https://pandas.pydata.org/pandas-docs/stable/user_guide/indexing.html#returning-a-view-versus-a-copy\n"
          ]
        }
      ]
    },
    {
      "cell_type": "code",
      "source": [
        "#Concat old and new data\n",
        "productivity_data_new = pd.concat([productivity_data, productive_meetings])\n",
        "productivity_data_new = productivity_data_new.drop_duplicates(['String_Date', 'Calendar event ID'], keep='last')"
      ],
      "metadata": {
        "id": "YVL_IW9KlIYU"
      },
      "execution_count": null,
      "outputs": []
    },
    {
      "cell_type": "code",
      "source": [
        "print(productivity_data_new.shape, productivity_data.shape, productive_meetings.shape)"
      ],
      "metadata": {
        "id": "6LaliFyeld7b",
        "colab": {
          "base_uri": "https://localhost:8080/"
        },
        "outputId": "cd6ced8c-fd50-4e9e-826f-e43b286cdea2"
      },
      "execution_count": null,
      "outputs": [
        {
          "output_type": "stream",
          "name": "stdout",
          "text": [
            "(5984, 9) (5699, 9) (285, 9)\n"
          ]
        }
      ]
    },
    {
      "cell_type": "markdown",
      "source": [
        "# STORING PRODUCTIVE MEETINGS"
      ],
      "metadata": {
        "id": "egp3ozWJiCqB"
      }
    },
    {
      "cell_type": "code",
      "source": [
        "#Create data frame and store\n",
        "#TODO: write to complete list of all attendance data; over write any redundant data\n",
        "file_name = 'all_productivity_data.csv'\n",
        "productivity_data_new.to_csv(file_name, index = False)"
      ],
      "metadata": {
        "id": "mDl-g0QyiGJx"
      },
      "execution_count": null,
      "outputs": []
    },
    {
      "cell_type": "markdown",
      "source": [
        "#SAVING DATAFRAMES AS GOOGLE SHEETS"
      ],
      "metadata": {
        "id": "agtSKw1U4DBh"
      }
    },
    {
      "cell_type": "code",
      "source": [
        "#Sheet Info\n",
        "spreadsheet_key = attendance_spreadsheet_key\n",
        "workbook = gc.open_by_key(spreadsheet_key)\n",
        "\n",
        "#Converting datetimes to string\n",
        "attendance_data_new['Start Datetime'] = attendance_data_new['Start Datetime'].astype(str)\n",
        "attendance_data_new['End Datetime'] = attendance_data_new['End Datetime'].astype(str)\n",
        "calendar_data.fillna('', inplace=True)\n",
        "\n",
        "\n",
        "#Writing dataframe to google sheet\n",
        "workbook.values_update(\n",
        "  'sheet1!A1',\n",
        "  params={\n",
        "      'valueInputOption': 'USER_ENTERED'\n",
        "  },\n",
        "  body={\n",
        "      'values': [attendance_data_new.columns.values.tolist()] + attendance_data_new.values.tolist()\n",
        "  }\n",
        ")"
      ],
      "metadata": {
        "colab": {
          "base_uri": "https://localhost:8080/"
        },
        "id": "1Rr2SH8HB1yK",
        "outputId": "2bd71c82-f1ba-4def-cf00-329da13fb35a"
      },
      "execution_count": null,
      "outputs": [
        {
          "output_type": "execute_result",
          "data": {
            "text/plain": [
              "{'spreadsheetId': '1zdKt4k-d9tvi5pm_nyQj5KfdLhVcJSDL5ekrXwfkR1M',\n",
              " 'updatedCells': 481580,\n",
              " 'updatedColumns': 20,\n",
              " 'updatedRange': 'Sheet1!A1:T24079',\n",
              " 'updatedRows': 24079}"
            ]
          },
          "metadata": {},
          "execution_count": 43
        }
      ]
    },
    {
      "cell_type": "code",
      "source": [
        "#Sheet Info\n",
        "spreadsheet_key = productivity_spreadsheet_key\n",
        "workbook = gc.open_by_key(spreadsheet_key)\n",
        "\n",
        "#Replace all NaN's with empty string\n",
        "productivity_data_new.fillna('', inplace=True)\n",
        "productivity_data_new['Start Datetime'] = productivity_data_new['Start Datetime'].astype(str)\n",
        "\n",
        "#Writing to google sheet\n",
        "workbook.values_update(\n",
        "  'sheet1!A1',\n",
        "  params={\n",
        "      'valueInputOption': 'USER_ENTERED'\n",
        "  },\n",
        "  body={\n",
        "      'values': [productivity_data_new.columns.values.tolist()] + productivity_data_new.values.tolist()\n",
        "  }\n",
        ")"
      ],
      "metadata": {
        "id": "7mzlbUDu4A1b",
        "colab": {
          "base_uri": "https://localhost:8080/"
        },
        "outputId": "03d2a681-208f-402e-b011-14fdd4217ffd"
      },
      "execution_count": null,
      "outputs": [
        {
          "output_type": "execute_result",
          "data": {
            "text/plain": [
              "{'spreadsheetId': '1ag6astOJXNwCJRz3vVu3gkGa_aMEi4E7VaeCj5ObbSk',\n",
              " 'updatedCells': 53865,\n",
              " 'updatedColumns': 9,\n",
              " 'updatedRange': 'Sheet1!A1:I5985',\n",
              " 'updatedRows': 5985}"
            ]
          },
          "metadata": {},
          "execution_count": 44
        }
      ]
    }
  ]
}