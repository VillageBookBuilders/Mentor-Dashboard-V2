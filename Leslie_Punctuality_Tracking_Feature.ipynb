{
  "nbformat": 4,
  "nbformat_minor": 0,
  "metadata": {
    "colab": {
      "name": "Leslie Punctuality Tracking Feature",
      "provenance": [],
      "collapsed_sections": [],
      "toc_visible": true,
      "include_colab_link": true
    },
    "kernelspec": {
      "name": "python3",
      "display_name": "Python 3"
    },
    "language_info": {
      "name": "python"
    }
  },
  "cells": [
    {
      "cell_type": "markdown",
      "metadata": {
        "id": "view-in-github",
        "colab_type": "text"
      },
      "source": [
        "<a href=\"https://colab.research.google.com/github/VillageBookBuilders/Mentor-Dashboard-V2/blob/punctuality/Leslie_Punctuality_Tracking_Feature.ipynb\" target=\"_parent\"><img src=\"https://colab.research.google.com/assets/colab-badge.svg\" alt=\"Open In Colab\"/></a>"
      ]
    },
    {
      "cell_type": "code",
      "execution_count": 26,
      "metadata": {
        "id": "3bZwK5KysB9X",
        "colab": {
          "base_uri": "https://localhost:8080/",
          "height": 35
        },
        "outputId": "b63bc2a9-ef65-42f0-ee03-729dd6ffeed2"
      },
      "outputs": [
        {
          "output_type": "execute_result",
          "data": {
            "text/plain": [
              "'\\nISSUES\\n\\n\\n'"
            ],
            "application/vnd.google.colaboratory.intrinsic+json": {
              "type": "string"
            }
          },
          "metadata": {},
          "execution_count": 26
        }
      ],
      "source": [
        "#Attendance Tracking by using Calendar and Audit Log Data\n",
        "\n",
        "#Revision notes V2.1: Added punctiality code \n",
        "\n",
        "'''\n",
        "ISSUES\n",
        "\n",
        "\n",
        "'''\n"
      ]
    },
    {
      "cell_type": "markdown",
      "source": [
        "# CONNECTING TO GOOGLE DRIVE"
      ],
      "metadata": {
        "id": "-e30JtYkfes_"
      }
    },
    {
      "cell_type": "code",
      "source": [
        "#connect colab to drive\n",
        "\n",
        "from google.colab import auth\n",
        "auth.authenticate_user()\n",
        "\n",
        "import gspread\n",
        "from google.auth import default\n",
        "creds, _ = default()\n",
        "\n",
        "gc = gspread.authorize(creds)\n"
      ],
      "metadata": {
        "id": "kSWZfJ6tsNA6"
      },
      "execution_count": 27,
      "outputs": []
    },
    {
      "cell_type": "code",
      "source": [
        "#Imports\n",
        "import pandas as pd\n",
        "from datetime import date, timedelta\n",
        "import pytz\n",
        "from numpy.core.numeric import NaN\n",
        "import datetime\n",
        "import math\n",
        "\n"
      ],
      "metadata": {
        "id": "WhFJN5LatFdd"
      },
      "execution_count": 28,
      "outputs": []
    },
    {
      "cell_type": "markdown",
      "source": [
        "#IMPORTANT GLOBAL VARIABLES"
      ],
      "metadata": {
        "id": "JxViOjjIYCAK"
      }
    },
    {
      "cell_type": "code",
      "source": [
        "mentor_email = 'mentor@villagebookbuilders.org' #Mentor program email address\n",
        "oracle_data       = 0                           #Data read from Oracle Database SQL Query\n",
        "google_data       = 0                           #Data read from Google Audit Log\n",
        "active_sessions   = 0                           #Active sessions recorded in Oracle db based on end date\n",
        "total_mentors     = 0                           #List of all mentors names in oracle db\n",
        "oracle_mentor_emails = []                       #list of all mentor emails in oracle db\n",
        "active_mentors    = 0                           #Mentor names that joined at least one session \n",
        "active_mentor_emails = []                       #List of mentor emails that joined at least one session\n",
        "mentor_programs   = []                          #Names of all mentor programs stored in oracle database\n",
        "mentors_not_registered = []                     #Names of all active mentors not logged in oracle database\n",
        "time_zone = 'America/Port_of_Spain'             #google_data['Date'][1][len(google_data['Date'][1])-3:] #TODO: change this hard coded time zone\n",
        "start = 0                                       #start date\n",
        "end = 0                                         #end date\n",
        "mentor_identifier = 'Mentor'                    #Mentor identifier\n",
        "mentee_identifier = 'Student'                   #Mentee identifier\n",
        "cal_id_len = 26                                 #usable calendar event id string length\n",
        "google_resource_identifier = '@resource.calendar.google.com'\n",
        "fire_flies_email = 'fred@fireflies.ai'\n",
        "attendance_spreadsheet_key = '15k8uMwE3QnZSZpLZW-4CcBgegUy2KB4XQxmkIz8RVCU'   #Test db\n",
        "productivity_spreadsheet_key = '1oDosLs6cbSCSyj9j6oIcBJWcKT0u4-DzHvHC3L117RM' #Test db\n",
        "attendance_info_url = f'https://docs.google.com/spreadsheets/d/{attendance_spreadsheet_key}/edit#gid=0'\n",
        "productivity_info_url = f'https://docs.google.com/spreadsheets/d/{productivity_spreadsheet_key}/edit#gid=0'\n",
        "mentee_comp_url = 'https://docs.google.com/spreadsheets/d/1JcJ99pX-pjMTCkFrLwjpaCJ_1FcJ2xZ7UqgBJHGFl9I/edit#gid=925063253'\n",
        "corporate_partner_url = 'https://docs.google.com/spreadsheets/d/1K9FtfVv-lzU0eQE4V27Qdb3zuj2t9d-WOxs2ZAA04kw/edit#gid=0'\n",
        "program_director_name = ['adeiso ghana', 'ahero kenya', 'biwi, malawi vbb mentor program', 'charity centre, zambia vbb mentor program', 'chebosi kenya', 'kadzakalowa malawi', 'maragoli kenya', 'mukono uganda', 'vima ghana'] #Actor names of program director accounts"
      ],
      "metadata": {
        "id": "l3A_o3ChYGG2"
      },
      "execution_count": 29,
      "outputs": []
    },
    {
      "cell_type": "markdown",
      "source": [
        "# READING DATA SOURCES"
      ],
      "metadata": {
        "id": "B1NVU9iPfnsp"
      }
    },
    {
      "cell_type": "code",
      "source": [
        "#IMPORTANT: THE ONLY THINGS THAT YOU NEED TO CHANGE ARE THE GOOGLE SHEET URL's FOR THE CALENDAR DATA AND GOOGLE MEET AUDIT LOG DATA\n",
        "calendar_sheet_url = 'https://docs.google.com/spreadsheets/d/1uhfIBt08CBH9LpTjs0p7Kqgcmd4mlyLnnzwx4PFlUmU/edit#gid=0'\n",
        "audit_log_sheet_url = 'https://docs.google.com/spreadsheets/d/1WjMRaBfS6LOHdQuvwyduPcBWJb5lfu-qBGy0PevRoPM/edit#gid=0'"
      ],
      "metadata": {
        "id": "ku207BpGp4gJ"
      },
      "execution_count": 30,
      "outputs": []
    },
    {
      "cell_type": "code",
      "source": [
        "#Read Data Sources as pandas data frames\n",
        "\n",
        "#previous attendance data\n",
        "sheet_url = attendance_info_url\n",
        "attendance_path = sheet_url.replace('/edit#gid=', '/export?format=csv&gid=')\n",
        "#calendar_path = '/content/gdrive/MyDrive/Projects/Mentor_Dashboard_V2/3. Execution/SRC Code/Data/Calendar Data Export/Calendar Export UTC - Sheet1.csv' \n",
        "attendance_data = pd.read_csv(attendance_path, on_bad_lines='skip')\n",
        "\n",
        "#previous productivity data\n",
        "sheet_url = productivity_info_url\n",
        "productivity_path = sheet_url.replace('/edit#gid=', '/export?format=csv&gid=')\n",
        "#calendar_path = '/content/gdrive/MyDrive/Projects/Mentor_Dashboard_V2/3. Execution/SRC Code/Data/Calendar Data Export/Calendar Export UTC - Sheet1.csv' \n",
        "productivity_data = pd.read_csv(productivity_path, on_bad_lines='skip')\n",
        "\n",
        "#Calendar Data\n",
        "sheet_url = calendar_sheet_url\n",
        "calendar_path = sheet_url.replace('/edit#gid=', '/export?format=csv&gid=')\n",
        "#calendar_path = '/content/gdrive/MyDrive/Projects/Mentor_Dashboard_V2/3. Execution/SRC Code/Data/Calendar Data Export/Calendar Export UTC - Sheet1.csv' \n",
        "calendar_data = pd.read_csv(calendar_path, on_bad_lines='skip')\n",
        "\n",
        "#Google Audit Log Data\n",
        "sheet_url = audit_log_sheet_url\n",
        "google_path = sheet_url.replace('/edit#gid=', '/export?format=csv&gid=')\n",
        "#google_path = '/content/gdrive/MyDrive/Projects/Mentor_Dashboard_V2/3. Execution/SRC Code/Data/Google Audit Log/3 6 2022 - 3 12 2022/3_6_2022 - 3_12_2022.csv'\n",
        "google_data = pd.read_csv(google_path, on_bad_lines='skip')\n",
        "\n",
        "\n",
        "#Mentee Computer Emails\n",
        "sheet_url = mentee_comp_url\n",
        "mentee_email_path = sheet_url.replace('/edit#gid=', '/export?format=csv&gid=')\n",
        "#mentee_email_path = '/content/gdrive/MyDrive/Projects/Mentor_Dashboard_V2/3. Execution/SRC Code/Data/mentee email/Copy of Village Library Information - computer email.csv'\n",
        "mentee_computer_emails = pd.read_csv(mentee_email_path, on_bad_lines='skip')\n",
        "\n",
        "#Corporate Parners\n",
        "sheet_url = corporate_partner_url\n",
        "corporate_partners_path = sheet_url.replace('/edit#gid=', '/export?format=csv&gid=')\n",
        "#corporate_partners_path = '/content/gdrive/MyDrive/Projects/Mentor_Dashboard_V2/3. Execution/SRC Code/Data/Corporate Organizations/Corporate Partners.csv'\n",
        "corporate_partners = pd.read_csv(corporate_partners_path, on_bad_lines='skip')\n",
        "\n"
      ],
      "metadata": {
        "id": "ti3RqFW5uRou"
      },
      "execution_count": 31,
      "outputs": []
    },
    {
      "cell_type": "code",
      "source": [
        "print(attendance_data.shape, productivity_data.shape, calendar_data.shape, google_data.shape, mentee_computer_emails.shape, corporate_partners.shape)"
      ],
      "metadata": {
        "id": "g1SxDj2NbH2Q",
        "colab": {
          "base_uri": "https://localhost:8080/"
        },
        "outputId": "76df9ae8-3d83-42ea-c424-8e15b81d1923"
      },
      "execution_count": 32,
      "outputs": [
        {
          "output_type": "stream",
          "name": "stdout",
          "text": [
            "(21845, 20) (5425, 9) (1539, 11) (259, 31) (146, 8) (3, 2)\n"
          ]
        }
      ]
    },
    {
      "cell_type": "markdown",
      "source": [
        "\n",
        "# CLEANING DATA"
      ],
      "metadata": {
        "id": "dx1dhULnfsJF"
      }
    },
    {
      "cell_type": "code",
      "source": [
        "#Calendar Data\n",
        "calendar_data = calendar_data.dropna() #remove all empty sessions\n",
        "calendar_data = calendar_data.drop_duplicates()\n",
        "calendar_data = calendar_data[(~calendar_data['Participant Identifier'].str.contains(google_resource_identifier)) & (calendar_data['Participant Identifier'] != fire_flies_email)]\n",
        "\n",
        "#Google Data\n",
        "google_data = google_data.dropna(subset=['Date', 'Meeting code', 'Actor', 'Organizer email', 'Duration (seconds)', 'Actor name', 'Calendar event ID']) #clean google data\n",
        "google_data = google_data.drop_duplicates()\n",
        "google_data = google_data[google_data['Duration (seconds)'] > 0] #drop all calls with 0 duration\n",
        "google_data = google_data[google_data['Organizer email'] == mentor_email] #only consider mentor sessions\n",
        "google_data = google_data[google_data['Actor name'] != 'Mentor Program'] #drop all entries for mentor program\n",
        "\n",
        "#Mentee Email data\n",
        "mentee_computer_emails = mentee_computer_emails.drop_duplicates(['COMPUTER_EMAIL'])\n",
        "\n",
        "#Corporate Parner data\n",
        "corporate_partners = corporate_partners.dropna()"
      ],
      "metadata": {
        "id": "ZV2uWWJafEtR"
      },
      "execution_count": 33,
      "outputs": []
    },
    {
      "cell_type": "code",
      "source": [
        "print(calendar_data.shape, google_data.shape)"
      ],
      "metadata": {
        "id": "hZ6eWiC9kK7a",
        "colab": {
          "base_uri": "https://localhost:8080/"
        },
        "outputId": "95bc5a42-b9af-46de-bb11-765b5ce39c8e"
      },
      "execution_count": 34,
      "outputs": [
        {
          "output_type": "stream",
          "name": "stdout",
          "text": [
            "(1094, 11) (224, 31)\n"
          ]
        }
      ]
    },
    {
      "cell_type": "code",
      "source": [
        "#DATE CONVERSIONS\n",
        "#Only run this once. Running more times will cause an error. To fix re-read data sources\n",
        "def conv_to_datetime(a):\n",
        "  utc_timezone = pytz.timezone('UTC')\n",
        "  if isinstance(a, datetime.date):\n",
        "    return a\n",
        "  try:\n",
        "    #Convert calendar export dates\n",
        "    date = datetime.datetime.strptime(a, '%m/%d/%Y %H:%M:%S')\n",
        "    date = date.replace(tzinfo = pytz.timezone('UTC')) \n",
        "    return date\n",
        "  except:\n",
        "    try:\n",
        "      #Convert Audit log dates \n",
        "      date = datetime.datetime.strptime(a, '%Y-%m-%dT%H:%M:%SZ')\n",
        "      date = date.replace(tzinfo = pytz.timezone('UTC')) \n",
        "      return  date\n",
        "    except:\n",
        "      date = datetime.datetime.strptime('', '')\n",
        "      date = date.replace(tzinfo = utc_timezone)\n",
        "      return date\n",
        "\n"
      ],
      "metadata": {
        "id": "_dfBR_DQcLEG"
      },
      "execution_count": 35,
      "outputs": []
    },
    {
      "cell_type": "code",
      "source": [
        "#convert attendance data times to date time\n",
        "attendance_data['Start Datetime'] = attendance_data['Event Start UTC'].apply(conv_to_datetime)\n",
        "attendance_data['End Datetime'] = attendance_data['Event End UTC'].apply(conv_to_datetime)"
      ],
      "metadata": {
        "id": "foJi976Yg9uf"
      },
      "execution_count": 36,
      "outputs": []
    },
    {
      "cell_type": "code",
      "source": [
        "#converting calendar dates to datetime objs\n",
        "calendar_data['Start Datetime'] = calendar_data['Event Start UTC'].apply(conv_to_datetime)\n",
        "calendar_data['End Datetime'] = calendar_data['Event End UTC'].apply(conv_to_datetime)\n",
        "\n"
      ],
      "metadata": {
        "id": "Z6ZxJul9orkg"
      },
      "execution_count": 37,
      "outputs": []
    },
    {
      "cell_type": "code",
      "source": [
        "#Getting usable substring from Calendar Event ID\n",
        "calendar_data['Calendar event ID'] = calendar_data['Calendar event ID'].apply(lambda x: x[:cal_id_len])"
      ],
      "metadata": {
        "id": "pI97hNrbseLt"
      },
      "execution_count": 38,
      "outputs": []
    },
    {
      "cell_type": "code",
      "source": [
        "#Convert google dates to datetime UTC\n",
        "#google_data['Date'] = google_data['Date'].apply(lambda x: x[:-4]) #remove time zone\n",
        "google_data['Date'] = google_data['Date'].apply(conv_to_datetime)"
      ],
      "metadata": {
        "id": "uKItSRAvj47X"
      },
      "execution_count": 39,
      "outputs": []
    },
    {
      "cell_type": "code",
      "source": [
        "#Create new column with just dates\n",
        "google_data['String_Date'] = google_data['Date'].apply(lambda x: x.strftime(\"%m/%d/%Y\"))\n",
        "calendar_data['String_Date'] = calendar_data['Start Datetime'].apply(lambda x: x.strftime(\"%m/%d/%Y\"))"
      ],
      "metadata": {
        "id": "CF2vCaz8j4Vl"
      },
      "execution_count": 40,
      "outputs": []
    },
    {
      "cell_type": "code",
      "source": [
        "#lower participant emails for accurate searches\n",
        "google_data['Actor'] = google_data['Actor'].apply(lambda x: x.lower())\n",
        "calendar_data['Participant Identifier'] = calendar_data['Participant Identifier'].apply(lambda x: x.lower())"
      ],
      "metadata": {
        "id": "z-QA2l-kcGGa"
      },
      "execution_count": 41,
      "outputs": []
    },
    {
      "cell_type": "code",
      "source": [
        "#Drop duplicate sessions caused by people signing in from various devices at the same time\n",
        "#google_data = google_data.drop_duplicates(subset = ['Participant Identifier', 'Calendar event ID', 'String_Date', 'IP address'])"
      ],
      "metadata": {
        "id": "-z3SBDLFQP5m"
      },
      "execution_count": 42,
      "outputs": []
    },
    {
      "cell_type": "code",
      "source": [
        "#list of mentee computer emails\n",
        "mentee_computer_emails_list = mentee_computer_emails['COMPUTER_EMAIL'].tolist()"
      ],
      "metadata": {
        "id": "UzIap4V-RxoF"
      },
      "execution_count": 43,
      "outputs": []
    },
    {
      "cell_type": "markdown",
      "source": [
        "#PUNCTUALITY TESTS"
      ],
      "metadata": {
        "id": "hX82uYWoX0qf"
      }
    },
    {
      "cell_type": "code",
      "source": [
        "for index, meeting in calendar_data.iterrows():\n",
        "  attendance = 0\n",
        "  duration = 0\n",
        "  meeting_data = google_data[(google_data['Actor'] == meeting['Participant Identifier']) & (google_data['Calendar event ID'].str.contains(meeting['Calendar event ID'])) & (google_data['String_Date'] == meeting['String_Date'])]\n",
        "\n",
        "  if(len(meeting_data)>0):\n",
        "    # duration = meeting_data['Duration (seconds)'].tolist()[-1]\n",
        "    # exit_time = meeting_data['Date'].tolist()[-1]\n",
        "    # print(exit_time, duration)\n",
        "    row = meeting_data.iloc[-1]\n",
        "    start_time = meeting['Start Datetime']\n",
        "    entry_time = row['Date'] - datetime.timedelta(seconds=int(row['Duration (seconds)']))\n",
        "    punctuality = (start_time - entry_time).total_seconds()/60\n",
        "    print(start_time, row['Date'], row['Duration (seconds)'], entry_time, punctuality)"
      ],
      "metadata": {
        "colab": {
          "base_uri": "https://localhost:8080/"
        },
        "id": "MfGcV60Jsoa8",
        "outputId": "7ad7a33f-e4a0-478d-94df-82f9fa14d958"
      },
      "execution_count": 88,
      "outputs": [
        {
          "output_type": "stream",
          "name": "stdout",
          "text": [
            "2022-05-03 03:10:00+00:00 2022-05-03 03:07:10+00:00 13 2022-05-03 03:06:57+00:00 3.05\n",
            "2022-05-04 03:10:00+00:00 2022-05-04 03:14:23+00:00 327 2022-05-04 03:08:56+00:00 1.0666666666666667\n",
            "2022-05-04 03:10:00+00:00 2022-05-04 03:34:21+00:00 363 2022-05-04 03:28:18+00:00 -18.3\n",
            "2022-05-04 03:10:00+00:00 2022-05-04 03:50:24+00:00 1325 2022-05-04 03:28:19+00:00 -18.316666666666666\n",
            "2022-05-04 03:10:00+00:00 2022-05-04 03:20:18+00:00 10 2022-05-04 03:20:08+00:00 -10.133333333333333\n",
            "2022-05-05 03:10:00+00:00 2022-05-05 03:53:21+00:00 2498 2022-05-05 03:11:43+00:00 -1.7166666666666666\n",
            "2022-05-05 03:10:00+00:00 2022-05-05 03:27:03+00:00 196 2022-05-05 03:23:47+00:00 -13.783333333333333\n",
            "2022-05-05 03:10:00+00:00 2022-05-05 03:11:30+00:00 11 2022-05-05 03:11:19+00:00 -1.3166666666666667\n",
            "2022-05-06 03:10:00+00:00 2022-05-06 03:24:40+00:00 17 2022-05-06 03:24:23+00:00 -14.383333333333333\n",
            "2022-05-04 13:00:00+00:00 2022-05-04 13:31:21+00:00 1331 2022-05-04 13:09:10+00:00 -9.166666666666666\n",
            "2022-05-04 15:00:00+00:00 2022-05-04 15:03:35+00:00 767 2022-05-04 14:50:48+00:00 9.2\n",
            "2022-05-04 15:00:00+00:00 2022-05-04 16:06:32+00:00 4689 2022-05-04 14:48:23+00:00 11.616666666666667\n",
            "2022-05-04 15:00:00+00:00 2022-05-04 16:05:26+00:00 4637 2022-05-04 14:48:09+00:00 11.85\n",
            "2022-05-05 13:00:00+00:00 2022-05-05 14:52:17+00:00 6746 2022-05-05 12:59:51+00:00 0.15\n",
            "2022-05-05 13:00:00+00:00 2022-05-05 13:59:57+00:00 3481 2022-05-05 13:01:56+00:00 -1.9333333333333333\n",
            "2022-05-05 13:00:00+00:00 2022-05-05 14:02:27+00:00 3539 2022-05-05 13:03:28+00:00 -3.466666666666667\n",
            "2022-05-05 13:00:00+00:00 2022-05-05 14:02:30+00:00 4268 2022-05-05 12:51:22+00:00 8.633333333333333\n",
            "2022-05-05 13:00:00+00:00 2022-05-05 14:11:47+00:00 4562 2022-05-05 12:55:45+00:00 4.25\n",
            "2022-05-05 13:00:00+00:00 2022-05-05 13:59:14+00:00 3515 2022-05-05 13:00:39+00:00 -0.65\n",
            "2022-05-05 13:00:00+00:00 2022-05-05 14:00:55+00:00 4161 2022-05-05 12:51:34+00:00 8.433333333333334\n",
            "2022-05-05 13:00:00+00:00 2022-05-05 14:00:44+00:00 3652 2022-05-05 12:59:52+00:00 0.13333333333333333\n",
            "2022-05-05 13:00:00+00:00 2022-05-05 13:45:55+00:00 2296 2022-05-05 13:07:39+00:00 -7.65\n",
            "2022-05-05 13:00:00+00:00 2022-05-05 13:35:45+00:00 1902 2022-05-05 13:04:03+00:00 -4.05\n",
            "2022-05-05 13:00:00+00:00 2022-05-05 13:35:30+00:00 2066 2022-05-05 13:01:04+00:00 -1.0666666666666667\n",
            "2022-05-05 14:00:00+00:00 2022-05-05 15:08:26+00:00 3703 2022-05-05 14:06:43+00:00 -6.716666666666667\n",
            "2022-05-05 14:00:00+00:00 2022-05-05 14:41:44+00:00 2725 2022-05-05 13:56:19+00:00 3.683333333333333\n",
            "2022-05-05 14:00:00+00:00 2022-05-05 14:52:11+00:00 3072 2022-05-05 14:00:59+00:00 -0.9833333333333333\n",
            "2022-05-05 14:00:00+00:00 2022-05-05 14:52:08+00:00 2860 2022-05-05 14:04:28+00:00 -4.466666666666667\n",
            "2022-05-05 14:00:00+00:00 2022-05-05 15:13:47+00:00 4421 2022-05-05 14:00:06+00:00 -0.1\n",
            "2022-05-05 14:00:00+00:00 2022-05-05 14:07:09+00:00 173 2022-05-05 14:04:16+00:00 -4.266666666666667\n",
            "2022-05-05 14:00:00+00:00 2022-05-05 15:03:03+00:00 1363 2022-05-05 14:40:20+00:00 -40.333333333333336\n",
            "2022-05-05 14:00:00+00:00 2022-05-05 14:40:25+00:00 1963 2022-05-05 14:07:42+00:00 -7.7\n",
            "2022-05-05 14:00:00+00:00 2022-05-05 14:48:15+00:00 3007 2022-05-05 13:58:08+00:00 1.8666666666666667\n",
            "2022-05-05 14:00:00+00:00 2022-05-05 14:47:37+00:00 2839 2022-05-05 14:00:18+00:00 -0.3\n",
            "2022-05-05 15:00:00+00:00 2022-05-05 15:40:53+00:00 2358 2022-05-05 15:01:35+00:00 -1.5833333333333333\n",
            "2022-05-05 15:00:00+00:00 2022-05-05 15:42:06+00:00 2482 2022-05-05 15:00:44+00:00 -0.7333333333333333\n",
            "2022-05-05 15:00:00+00:00 2022-05-05 15:55:05+00:00 3441 2022-05-05 14:57:44+00:00 2.2666666666666666\n",
            "2022-05-05 15:00:00+00:00 2022-05-05 15:54:58+00:00 3557 2022-05-05 14:55:41+00:00 4.316666666666666\n",
            "2022-05-05 15:00:00+00:00 2022-05-05 15:40:54+00:00 2886 2022-05-05 14:52:48+00:00 7.2\n",
            "2022-05-05 15:00:00+00:00 2022-05-05 15:50:05+00:00 2920 2022-05-05 15:01:25+00:00 -1.4166666666666667\n",
            "2022-05-05 15:00:00+00:00 2022-05-05 16:04:40+00:00 4201 2022-05-05 14:54:39+00:00 5.35\n",
            "2022-05-05 15:00:00+00:00 2022-05-05 15:52:48+00:00 1871 2022-05-05 15:21:37+00:00 -21.616666666666667\n",
            "2022-05-05 15:00:00+00:00 2022-05-05 15:06:20+00:00 4347 2022-05-05 13:53:53+00:00 66.11666666666666\n",
            "2022-05-05 15:00:00+00:00 2022-05-05 13:45:01+00:00 196 2022-05-05 13:41:45+00:00 78.25\n",
            "2022-05-06 13:00:00+00:00 2022-05-06 13:57:33+00:00 3511 2022-05-06 12:59:02+00:00 0.9666666666666667\n",
            "2022-05-06 13:00:00+00:00 2022-05-06 13:57:29+00:00 3443 2022-05-06 13:00:06+00:00 -0.1\n",
            "2022-05-06 13:00:00+00:00 2022-05-06 13:52:37+00:00 3079 2022-05-06 13:01:18+00:00 -1.3\n",
            "2022-05-06 13:00:00+00:00 2022-05-06 13:52:15+00:00 2970 2022-05-06 13:02:45+00:00 -2.75\n",
            "2022-05-06 13:00:00+00:00 2022-05-06 14:34:45+00:00 4408 2022-05-06 13:21:17+00:00 -21.283333333333335\n",
            "2022-05-06 13:00:00+00:00 2022-05-06 13:12:44+00:00 637 2022-05-06 13:02:07+00:00 -2.1166666666666667\n",
            "2022-05-06 13:00:00+00:00 2022-05-06 13:46:01+00:00 2790 2022-05-06 12:59:31+00:00 0.48333333333333334\n",
            "2022-05-06 13:00:00+00:00 2022-05-06 13:46:00+00:00 2164 2022-05-06 13:09:56+00:00 -9.933333333333334\n",
            "2022-05-06 14:00:00+00:00 2022-05-06 14:58:25+00:00 4411 2022-05-06 13:44:54+00:00 15.1\n",
            "2022-05-06 14:00:00+00:00 2022-05-06 14:58:22+00:00 3513 2022-05-06 13:59:49+00:00 0.18333333333333332\n",
            "2022-05-06 15:00:00+00:00 2022-05-06 15:53:19+00:00 3405 2022-05-06 14:56:34+00:00 3.433333333333333\n",
            "2022-05-06 15:00:00+00:00 2022-05-06 15:52:37+00:00 3103 2022-05-06 15:00:54+00:00 -0.9\n",
            "2022-05-06 15:00:00+00:00 2022-05-06 15:58:55+00:00 3444 2022-05-06 15:01:31+00:00 -1.5166666666666666\n",
            "2022-05-06 15:00:00+00:00 2022-05-06 15:57:35+00:00 3329 2022-05-06 15:02:06+00:00 -2.1\n",
            "2022-05-06 15:00:00+00:00 2022-05-06 15:05:08+00:00 368 2022-05-06 14:59:00+00:00 1.0\n",
            "2022-05-06 15:00:00+00:00 2022-05-06 15:15:24+00:00 911 2022-05-06 15:00:13+00:00 -0.21666666666666667\n",
            "2022-05-01 11:00:00+00:00 2022-05-01 10:57:07+00:00 20 2022-05-01 10:56:47+00:00 3.216666666666667\n",
            "2022-05-01 11:00:00+00:00 2022-05-01 11:01:56+00:00 268 2022-05-01 10:57:28+00:00 2.533333333333333\n",
            "2022-05-01 11:00:00+00:00 2022-05-01 11:01:42+00:00 84 2022-05-01 11:00:18+00:00 -0.3\n",
            "2022-05-01 12:00:00+00:00 2022-05-01 12:06:35+00:00 55 2022-05-01 12:05:40+00:00 -5.666666666666667\n",
            "2022-05-01 12:00:00+00:00 2022-05-01 12:58:43+00:00 3280 2022-05-01 12:04:03+00:00 -4.05\n",
            "2022-05-01 12:00:00+00:00 2022-05-01 13:04:43+00:00 3404 2022-05-01 12:07:59+00:00 -7.983333333333333\n",
            "2022-05-01 12:00:00+00:00 2022-05-01 12:06:38+00:00 100 2022-05-01 12:04:58+00:00 -4.966666666666667\n",
            "2022-05-01 14:00:00+00:00 2022-05-01 14:10:04+00:00 417 2022-05-01 14:03:07+00:00 -3.1166666666666667\n",
            "2022-05-01 14:00:00+00:00 2022-05-01 14:13:28+00:00 16 2022-05-01 14:13:12+00:00 -13.2\n",
            "2022-05-01 15:00:00+00:00 2022-05-01 16:01:06+00:00 3666 2022-05-01 15:00:00+00:00 0.0\n",
            "2022-05-01 15:00:00+00:00 2022-05-01 14:57:58+00:00 15 2022-05-01 14:57:43+00:00 2.283333333333333\n",
            "2022-05-01 15:00:00+00:00 2022-05-01 15:23:04+00:00 1242 2022-05-01 15:02:22+00:00 -2.3666666666666667\n",
            "2022-05-02 15:00:00+00:00 2022-05-02 15:03:37+00:00 141 2022-05-02 15:01:16+00:00 -1.2666666666666666\n",
            "2022-05-03 11:00:00+00:00 2022-05-03 12:02:03+00:00 3707 2022-05-03 11:00:16+00:00 -0.26666666666666666\n",
            "2022-05-03 11:00:00+00:00 2022-05-03 12:02:06+00:00 3685 2022-05-03 11:00:41+00:00 -0.6833333333333333\n",
            "2022-05-03 12:00:00+00:00 2022-05-03 12:59:02+00:00 8 2022-05-03 12:58:54+00:00 -58.9\n",
            "2022-05-03 12:00:00+00:00 2022-05-03 14:02:33+00:00 3639 2022-05-03 13:01:54+00:00 -61.9\n",
            "2022-05-05 13:00:00+00:00 2022-05-05 13:41:44+00:00 2710 2022-05-05 12:56:34+00:00 3.433333333333333\n",
            "2022-05-05 13:00:00+00:00 2022-05-05 13:42:01+00:00 2628 2022-05-05 12:58:13+00:00 1.7833333333333334\n",
            "2022-05-05 15:00:00+00:00 2022-05-05 15:54:58+00:00 3296 2022-05-05 15:00:02+00:00 -0.03333333333333333\n",
            "2022-05-05 15:00:00+00:00 2022-05-05 15:55:06+00:00 2819 2022-05-05 15:08:07+00:00 -8.116666666666667\n",
            "2022-05-06 14:00:00+00:00 2022-05-06 14:49:29+00:00 7 2022-05-06 14:49:22+00:00 -49.36666666666667\n",
            "2022-05-07 14:00:00+00:00 2022-05-07 14:07:35+00:00 10 2022-05-07 14:07:25+00:00 -7.416666666666667\n",
            "2022-05-07 15:00:00+00:00 2022-05-07 16:02:12+00:00 3629 2022-05-07 15:01:43+00:00 -1.7166666666666666\n",
            "2022-05-07 15:00:00+00:00 2022-05-07 16:02:15+00:00 3626 2022-05-07 15:01:49+00:00 -1.8166666666666667\n",
            "2022-05-07 15:00:00+00:00 2022-05-07 16:04:55+00:00 3652 2022-05-07 15:04:03+00:00 -4.05\n",
            "2022-05-07 15:00:00+00:00 2022-05-07 16:04:54+00:00 3470 2022-05-07 15:07:04+00:00 -7.066666666666666\n",
            "2022-05-01 11:00:00+00:00 2022-05-01 11:42:21+00:00 2505 2022-05-01 11:00:36+00:00 -0.6\n",
            "2022-05-01 12:00:00+00:00 2022-05-01 13:23:25+00:00 2996 2022-05-01 12:33:29+00:00 -33.483333333333334\n",
            "2022-05-01 12:00:00+00:00 2022-05-01 13:23:12+00:00 4568 2022-05-01 12:07:04+00:00 -7.066666666666666\n",
            "2022-05-01 13:00:00+00:00 2022-05-01 14:01:07+00:00 2601 2022-05-01 13:17:46+00:00 -17.766666666666666\n",
            "2022-05-01 13:00:00+00:00 2022-05-01 14:00:59+00:00 3306 2022-05-01 13:05:53+00:00 -5.883333333333334\n",
            "2022-05-01 13:00:00+00:00 2022-05-01 13:06:38+00:00 2501 2022-05-01 12:24:57+00:00 35.05\n",
            "2022-05-01 14:00:00+00:00 2022-05-01 14:41:18+00:00 2669 2022-05-01 13:56:49+00:00 3.183333333333333\n",
            "2022-05-01 14:00:00+00:00 2022-05-01 14:00:27+00:00 18 2022-05-01 14:00:09+00:00 -0.15\n",
            "2022-05-01 14:00:00+00:00 2022-05-01 14:44:06+00:00 1053 2022-05-01 14:26:33+00:00 -26.55\n",
            "2022-05-02 07:00:00+00:00 2022-05-02 07:22:46+00:00 271 2022-05-02 07:18:15+00:00 -18.25\n",
            "2022-05-02 07:00:00+00:00 2022-05-02 07:28:41+00:00 209 2022-05-02 07:25:12+00:00 -25.2\n",
            "2022-05-06 07:00:00+00:00 2022-05-06 07:17:18+00:00 923 2022-05-06 07:01:55+00:00 -1.9166666666666667\n",
            "2022-05-06 14:00:00+00:00 2022-05-06 14:14:38+00:00 822 2022-05-06 14:00:56+00:00 -0.9333333333333333\n",
            "2022-05-06 14:00:00+00:00 2022-05-06 14:52:55+00:00 2529 2022-05-06 14:10:46+00:00 -10.766666666666667\n",
            "2022-05-06 14:00:00+00:00 2022-05-06 14:52:31+00:00 3163 2022-05-06 13:59:48+00:00 0.2\n",
            "2022-05-07 06:00:00+00:00 2022-05-07 07:22:11+00:00 761 2022-05-07 07:09:30+00:00 -69.5\n",
            "2022-05-07 11:00:00+00:00 2022-05-07 11:39:42+00:00 2852 2022-05-07 10:52:10+00:00 7.833333333333333\n",
            "2022-05-07 12:00:00+00:00 2022-05-07 12:38:31+00:00 457 2022-05-07 12:30:54+00:00 -30.9\n",
            "2022-05-07 12:00:00+00:00 2022-05-07 12:30:44+00:00 1744 2022-05-07 12:01:40+00:00 -1.6666666666666667\n",
            "2022-05-07 12:00:00+00:00 2022-05-07 12:57:28+00:00 3290 2022-05-07 12:02:38+00:00 -2.6333333333333333\n",
            "2022-05-07 13:00:00+00:00 2022-05-07 13:22:15+00:00 1501 2022-05-07 12:57:14+00:00 2.7666666666666666\n",
            "2022-05-07 13:00:00+00:00 2022-05-07 13:25:25+00:00 308 2022-05-07 13:20:17+00:00 -20.283333333333335\n",
            "2022-05-07 13:00:00+00:00 2022-05-07 13:10:20+00:00 593 2022-05-07 13:00:27+00:00 -0.45\n",
            "2022-05-07 13:00:00+00:00 2022-05-07 13:23:24+00:00 8 2022-05-07 13:23:16+00:00 -23.266666666666666\n",
            "2022-05-07 13:00:00+00:00 2022-05-07 13:21:05+00:00 777 2022-05-07 13:08:08+00:00 -8.133333333333333\n",
            "2022-05-07 14:00:00+00:00 2022-05-07 14:10:16+00:00 620 2022-05-07 13:59:56+00:00 0.06666666666666667\n",
            "2022-05-07 14:00:00+00:00 2022-05-07 15:04:41+00:00 3831 2022-05-07 14:00:50+00:00 -0.8333333333333334\n",
            "2022-05-02 09:00:00+00:00 2022-05-02 09:19:25+00:00 614 2022-05-02 09:09:11+00:00 -9.183333333333334\n",
            "2022-05-02 11:00:00+00:00 2022-05-02 12:30:30+00:00 134 2022-05-02 12:28:16+00:00 -88.26666666666667\n",
            "2022-05-03 10:00:00+00:00 2022-05-03 10:13:49+00:00 865 2022-05-03 09:59:24+00:00 0.6\n",
            "2022-05-04 09:00:00+00:00 2022-05-04 09:26:00+00:00 13 2022-05-04 09:25:47+00:00 -25.783333333333335\n",
            "2022-05-05 10:00:00+00:00 2022-05-05 10:06:52+00:00 41 2022-05-05 10:06:11+00:00 -6.183333333333334\n",
            "2022-05-05 13:00:00+00:00 2022-05-05 13:30:33+00:00 1734 2022-05-05 13:01:39+00:00 -1.65\n",
            "2022-05-07 09:00:00+00:00 2022-05-07 10:00:52+00:00 3625 2022-05-07 09:00:27+00:00 -0.45\n",
            "2022-05-07 10:00:00+00:00 2022-05-07 10:32:09+00:00 1552 2022-05-07 10:06:17+00:00 -6.283333333333333\n",
            "2022-05-07 10:00:00+00:00 2022-05-07 10:26:53+00:00 1710 2022-05-07 09:58:23+00:00 1.6166666666666667\n",
            "2022-05-07 10:00:00+00:00 2022-05-07 10:49:58+00:00 1881 2022-05-07 10:18:37+00:00 -18.616666666666667\n",
            "2022-05-07 10:00:00+00:00 2022-05-07 10:16:02+00:00 916 2022-05-07 10:00:46+00:00 -0.7666666666666667\n",
            "2022-05-07 11:00:00+00:00 2022-05-07 12:05:56+00:00 4185 2022-05-07 10:56:11+00:00 3.816666666666667\n",
            "2022-05-07 11:00:00+00:00 2022-05-07 12:09:03+00:00 4041 2022-05-07 11:01:42+00:00 -1.7\n",
            "2022-05-07 11:00:00+00:00 2022-05-07 11:33:25+00:00 2033 2022-05-07 10:59:32+00:00 0.4666666666666667\n",
            "2022-05-07 11:00:00+00:00 2022-05-07 11:30:06+00:00 1588 2022-05-07 11:03:38+00:00 -3.6333333333333333\n",
            "2022-05-07 12:00:00+00:00 2022-05-07 13:22:50+00:00 5471 2022-05-07 11:51:39+00:00 8.35\n",
            "2022-05-07 12:00:00+00:00 2022-05-07 11:06:51+00:00 142 2022-05-07 11:04:29+00:00 55.516666666666666\n",
            "2022-05-07 13:00:00+00:00 2022-05-07 13:23:07+00:00 1194 2022-05-07 13:03:13+00:00 -3.216666666666667\n",
            "2022-05-07 14:00:00+00:00 2022-05-07 14:41:17+00:00 1742 2022-05-07 14:12:15+00:00 -12.25\n",
            "2022-05-07 14:00:00+00:00 2022-05-07 14:00:42+00:00 70 2022-05-07 13:59:32+00:00 0.4666666666666667\n",
            "2022-05-03 14:00:00+00:00 2022-05-03 14:32:27+00:00 2121 2022-05-03 13:57:06+00:00 2.9\n",
            "2022-05-04 12:00:00+00:00 2022-05-04 11:55:12+00:00 27 2022-05-04 11:54:45+00:00 5.25\n",
            "2022-05-04 12:00:00+00:00 2022-05-04 12:55:01+00:00 3252 2022-05-04 12:00:49+00:00 -0.8166666666666667\n",
            "2022-05-05 12:00:00+00:00 2022-05-05 13:21:40+00:00 5016 2022-05-05 11:58:04+00:00 1.9333333333333333\n",
            "2022-05-05 12:00:00+00:00 2022-05-05 13:06:01+00:00 3923 2022-05-05 12:00:38+00:00 -0.6333333333333333\n",
            "2022-05-05 14:00:00+00:00 2022-05-05 13:58:19+00:00 42 2022-05-05 13:57:37+00:00 2.3833333333333333\n",
            "2022-05-05 14:00:00+00:00 2022-05-05 14:21:33+00:00 1202 2022-05-05 14:01:31+00:00 -1.5166666666666666\n",
            "2022-05-05 14:00:00+00:00 2022-05-05 13:59:33+00:00 17 2022-05-05 13:59:16+00:00 0.7333333333333333\n",
            "2022-05-06 14:00:00+00:00 2022-05-06 15:00:52+00:00 3736 2022-05-06 13:58:36+00:00 1.4\n",
            "2022-05-06 14:00:00+00:00 2022-05-06 14:58:07+00:00 3254 2022-05-06 14:03:53+00:00 -3.8833333333333333\n",
            "2022-05-03 14:00:00+00:00 2022-05-03 14:10:26+00:00 611 2022-05-03 14:00:15+00:00 -0.25\n",
            "2022-05-04 12:00:00+00:00 2022-05-04 12:10:54+00:00 631 2022-05-04 12:00:23+00:00 -0.38333333333333336\n"
          ]
        }
      ]
    },
    {
      "cell_type": "code",
      "source": [
        "#Testing the total number of unique mentors for this weekly dataset\n",
        "participants = google_data.drop_duplicates(subset = ['Actor'])\n",
        "participants = participants[participants['String_Date'] != '03/13/2022']"
      ],
      "metadata": {
        "id": "z_QF3w-pMCuo"
      },
      "execution_count": 44,
      "outputs": []
    },
    {
      "cell_type": "code",
      "source": [
        "names = participants['Actor']\n",
        "student_emails = mentee_computer_emails['COMPUTER_EMAIL']\n",
        "len(names[~names.isin(student_emails)].tolist())"
      ],
      "metadata": {
        "id": "_s0GVBmjNDkV",
        "colab": {
          "base_uri": "https://localhost:8080/"
        },
        "outputId": "d51d7d21-fe1b-4748-aee8-ebdd910a4a0d"
      },
      "execution_count": 45,
      "outputs": [
        {
          "output_type": "execute_result",
          "data": {
            "text/plain": [
              "89"
            ]
          },
          "metadata": {},
          "execution_count": 45
        }
      ]
    },
    {
      "cell_type": "code",
      "source": [
        "#Today's date\n",
        "today_date = datetime.datetime.today().replace(tzinfo = pytz.timezone(time_zone))\n",
        "\n",
        "#Start and end dates for schema 1\n",
        "dates_list = sorted(google_data['Date'].tolist())\n",
        "start1, end1 = dates_list[0], dates_list[-1] \n",
        "\n",
        "#Start and end dates for schema 2\n",
        "end, start = datetime.datetime(2022, 2, 27).astimezone(pytz.timezone(\"utc\")), datetime.datetime(2022, 3, 5).astimezone(pytz.timezone(\"utc\"))\n",
        "\n"
      ],
      "metadata": {
        "id": "Y55mCcMGrw_B"
      },
      "execution_count": 46,
      "outputs": []
    },
    {
      "cell_type": "code",
      "source": [
        "print(start1, end1)\n",
        "print(start, end)"
      ],
      "metadata": {
        "id": "_TF_7t6dkN-_",
        "colab": {
          "base_uri": "https://localhost:8080/"
        },
        "outputId": "09320a17-e5c9-4693-a5e2-b1fde5e374e1"
      },
      "execution_count": 47,
      "outputs": [
        {
          "output_type": "stream",
          "name": "stdout",
          "text": [
            "2022-05-01 10:57:07+00:00 2022-05-07 16:04:55+00:00\n",
            "2022-03-05 00:00:00+00:00 2022-02-27 00:00:00+00:00\n"
          ]
        }
      ]
    },
    {
      "cell_type": "markdown",
      "source": [
        "#ATTENDANCE AND DURATION TRACKING "
      ],
      "metadata": {
        "id": "NS6R-QbVbruy"
      }
    },
    {
      "cell_type": "code",
      "source": [
        "calendar_data['Attendance'] = [0]*len(calendar_data)\n",
        "calendar_data['Duration'] = [0]*len(calendar_data)\n",
        "calendar_data['User Type'] = [0]*len(calendar_data)\n",
        "calendar_data['Organization'] = [0]*len(calendar_data)\n",
        "#calendar_data['Punctuality'] = [NaN]*len(calendar_data)"
      ],
      "metadata": {
        "id": "ZWXDXlaw3DXu"
      },
      "execution_count": 48,
      "outputs": []
    },
    {
      "cell_type": "code",
      "source": [
        "from os import putenv\n",
        "for index, meeting in calendar_data.iterrows():\n",
        "  attendance = 0\n",
        "  duration = 0\n",
        "  meeting_data = google_data[(google_data['Actor'] == meeting['Participant Identifier']) & (google_data['Calendar event ID'].str.contains(meeting['Calendar event ID'])) & (google_data['String_Date'] == meeting['String_Date'])]\n",
        "\n",
        "\n",
        "  if (len(meeting_data) > 0):\n",
        "    attendance = 1\n",
        "    duration = sum(meeting_data['Duration (seconds)'].tolist())/60 #duration in minutes\n",
        "\n",
        "  calendar_data['Attendance'][index] = attendance\n",
        "  calendar_data['Duration'][index] = duration\n",
        "  calendar_data['User Type'][index] = mentee_identifier if meeting['Participant Identifier'] in mentee_computer_emails_list else mentor_identifier\n",
        " \n",
        "\n",
        "  #Assigning corporate partners\n",
        "  partner_name = 'Public/Chapter'\n",
        "  for i, partner in corporate_partners.iterrows():\n",
        "    if partner['Email Identifier'] in meeting['Participant Identifier']:\n",
        "      partner_name = partner['Organization']\n",
        "      break;\n",
        "\n",
        "  calendar_data['Organization'][index] = partner_name\n",
        "\n"
      ],
      "metadata": {
        "id": "PjVBygrn1xWu"
      },
      "execution_count": null,
      "outputs": []
    },
    {
      "cell_type": "code",
      "source": [
        "calendar_data['Missed_2'] = [0]*len(calendar_data)\n",
        "calendar_data['Missed_3'] = [0]*len(calendar_data)"
      ],
      "metadata": {
        "id": "PJAABO6hurip"
      },
      "execution_count": 50,
      "outputs": []
    },
    {
      "cell_type": "code",
      "source": [
        "#TODO: Write to complete list of attendance data here"
      ],
      "metadata": {
        "id": "jMsbY67Qgw-N"
      },
      "execution_count": 51,
      "outputs": []
    },
    {
      "cell_type": "markdown",
      "source": [
        "#FINDING MENTOR THAT MISSED LAST 2 OR 3 SESSIONS"
      ],
      "metadata": {
        "id": "1396xbwSukJb"
      }
    },
    {
      "cell_type": "code",
      "source": [
        "#Identify mentors that have missed 2 or 3 of their last sessions. "
      ],
      "metadata": {
        "id": "_PSURBCF6eTg"
      },
      "execution_count": 52,
      "outputs": []
    },
    {
      "cell_type": "code",
      "source": [
        "for index, meeting in calendar_data.iterrows():\n",
        "\n",
        "  #Get previous meetings regarless of id\n",
        "  #TODO: Read from complete list of attendance data here, also find how to return max 3 entires \n",
        "  previous_meetings_1 = attendance_data[(attendance_data['Start Datetime'] <= meeting['Start Datetime']) & (attendance_data['Participant Identifier'] == meeting['Participant Identifier'])]\n",
        "  previous_meetings_2 = calendar_data[(calendar_data['Start Datetime'] <= meeting['Start Datetime']) & (calendar_data['Participant Identifier'] == meeting['Participant Identifier'])] # & (calendar_data['Calendar event ID'] == meeting['Calendar event ID'])]\n",
        "  \n",
        "  previous_meetings = pd.concat([previous_meetings_1, previous_meetings_2])\n",
        "\n",
        "  if (len(previous_meetings)>=3):\n",
        "    last_3 = 0 if sum(previous_meetings['Attendance'].tolist()[-3:]) else 1\n",
        "    last_2 = 0 if sum(previous_meetings['Attendance'].tolist()[-2:]) else 1\n",
        "  elif (len(previous_meetings) == 2):\n",
        "    last_3 = 0\n",
        "    last_2 = 0 if sum(previous_meetings['Attendance'].tolist()) else 1\n",
        "  else:\n",
        "    last_3 = 0\n",
        "    last_2 = 0\n",
        "  \n",
        "  #updating data frame \n",
        "  calendar_data['Missed_2'][index] = last_2\n",
        "  calendar_data['Missed_3'][index] = last_3"
      ],
      "metadata": {
        "id": "JiJZ6I0CwuKL",
        "colab": {
          "base_uri": "https://localhost:8080/"
        },
        "outputId": "6201a295-b3d3-4bf6-f851-249197d9a8c9"
      },
      "execution_count": 53,
      "outputs": [
        {
          "output_type": "stream",
          "name": "stderr",
          "text": [
            "/usr/local/lib/python3.7/dist-packages/ipykernel_launcher.py:21: SettingWithCopyWarning: \n",
            "A value is trying to be set on a copy of a slice from a DataFrame\n",
            "\n",
            "See the caveats in the documentation: https://pandas.pydata.org/pandas-docs/stable/user_guide/indexing.html#returning-a-view-versus-a-copy\n",
            "/usr/local/lib/python3.7/dist-packages/ipykernel_launcher.py:22: SettingWithCopyWarning: \n",
            "A value is trying to be set on a copy of a slice from a DataFrame\n",
            "\n",
            "See the caveats in the documentation: https://pandas.pydata.org/pandas-docs/stable/user_guide/indexing.html#returning-a-view-versus-a-copy\n"
          ]
        }
      ]
    },
    {
      "cell_type": "code",
      "source": [
        "print(attendance_data.shape, calendar_data.shape)"
      ],
      "metadata": {
        "id": "dD3XOTIsBN8s",
        "colab": {
          "base_uri": "https://localhost:8080/"
        },
        "outputId": "b4a70d0f-99af-48cc-95d1-014c0a50c4be"
      },
      "execution_count": 54,
      "outputs": [
        {
          "output_type": "stream",
          "name": "stdout",
          "text": [
            "(21845, 20) (1094, 20)\n"
          ]
        }
      ]
    },
    {
      "cell_type": "code",
      "source": [
        "#Concat new and old data\n",
        "attendance_data_new = pd.concat([attendance_data, calendar_data])\n",
        "attendance_data_new = attendance_data_new.drop_duplicates(subset=['String_Date', 'Calendar event ID', 'Participant Identifier'], keep='last')"
      ],
      "metadata": {
        "id": "JnxrnPaPjwSw"
      },
      "execution_count": 55,
      "outputs": []
    },
    {
      "cell_type": "code",
      "source": [
        "print(attendance_data_new.shape)"
      ],
      "metadata": {
        "id": "lR0PsAqrj7KA",
        "colab": {
          "base_uri": "https://localhost:8080/"
        },
        "outputId": "4859f281-218c-487e-e6ae-25d4d4683b0e"
      },
      "execution_count": 56,
      "outputs": [
        {
          "output_type": "stream",
          "name": "stdout",
          "text": [
            "(21845, 20)\n"
          ]
        }
      ]
    },
    {
      "cell_type": "code",
      "source": [
        "#TODO: merge actor names to calendar_data based on participant identifier\n",
        "# actor_names = google_data[['Participant Identifier', 'Actor name']].drop_duplicates(subset = ['Participant Identifier'])\n",
        "# print(actor_names.shape)\n",
        "# actor_names = calendar_data[['Participant Identifier']].drop_duplicates(subset = ['Participant Identifier'])\n",
        "# print(actor_names.shape)\n",
        "\n",
        "# #Merge actor names\n",
        "# result = calendar_data#pd.merge(calendar_data, actor_names, on='Participant Identifier')"
      ],
      "metadata": {
        "id": "VuIigK5VLXrg"
      },
      "execution_count": 57,
      "outputs": []
    },
    {
      "cell_type": "markdown",
      "source": [
        "# STORING ATTENDANCE DATA"
      ],
      "metadata": {
        "id": "szbJwZlCR-aS"
      }
    },
    {
      "cell_type": "code",
      "source": [
        "#Create data frame and store\n",
        "#TODO: write to complete list of all attendance data; over write any redundant data\n",
        "file_name = 'all_attendance_data.csv'\n",
        "attendance_data_new.to_csv(file_name, index = False)"
      ],
      "metadata": {
        "id": "81jJRckUR9MQ"
      },
      "execution_count": 58,
      "outputs": []
    },
    {
      "cell_type": "markdown",
      "source": [
        "#FINDING PRODUCTIVE AND ALONE MEETINGS"
      ],
      "metadata": {
        "id": "HlPj2mEn7L4w"
      }
    },
    {
      "cell_type": "code",
      "source": [
        "#XOR function\n",
        "def xor(a, b):\n",
        "  if((a and b) or (not a and not b)):\n",
        "    return False\n",
        "  else:\n",
        "    return True"
      ],
      "metadata": {
        "id": "Z95pzUxGGPMY"
      },
      "execution_count": 59,
      "outputs": []
    },
    {
      "cell_type": "code",
      "source": [
        "#Convert list to string \n",
        "def listToString(s): \n",
        "    \n",
        "    # initialize an empty string\n",
        "    str1 = \"\" \n",
        "    \n",
        "    # traverse in the string  \n",
        "    for ele in s: \n",
        "        str1 += ele + \", \"  \n",
        "    \n",
        "    # return string  \n",
        "    return str1"
      ],
      "metadata": {
        "id": "5XiA2lDKVdTW"
      },
      "execution_count": 60,
      "outputs": []
    },
    {
      "cell_type": "code",
      "source": [
        "#A productive meeting will be a meeting in which at least one mentor and one mentee attended"
      ],
      "metadata": {
        "id": "RYQXO2iEb2f3"
      },
      "execution_count": 61,
      "outputs": []
    },
    {
      "cell_type": "code",
      "source": [
        "#Get all meetings per day \n",
        "productive_meetings  = calendar_data[['String_Date', 'Start Datetime' ,'Calendar event ID', 'Program Name']].drop_duplicates(subset=['String_Date', 'Calendar event ID'])\n",
        "productive_meetings['Productive'] = [0]*len(productive_meetings)\n",
        "productive_meetings['Alone'] = [0]*len(productive_meetings)\n",
        "productive_meetings['Absent Type'] = [NaN]*len(productive_meetings)\n",
        "productive_meetings['Absent Identifier'] = [NaN]*len(productive_meetings)"
      ],
      "metadata": {
        "id": "kBK_1M3fFzDU"
      },
      "execution_count": 62,
      "outputs": []
    },
    {
      "cell_type": "code",
      "source": [
        "#Get meeting start hour from datetime\n",
        "productive_meetings['Meet Time'] = productive_meetings['Start Datetime'].apply(lambda x: x.strftime('%H:%M'))"
      ],
      "metadata": {
        "id": "S5Yg_lKfjfWz"
      },
      "execution_count": 63,
      "outputs": []
    },
    {
      "cell_type": "code",
      "source": [
        "#For each meeting in each day see if the meeting was productive\n",
        "\n",
        "for index, meeting in productive_meetings.iterrows():\n",
        "  \n",
        "  mentor_attendance = sum(calendar_data[(calendar_data['String_Date'] == meeting['String_Date']) & (calendar_data['Calendar event ID'].str.contains(meeting['Calendar event ID'])) & (calendar_data['User Type'] == mentor_identifier)]['Attendance'].tolist())\n",
        "  mentee_attendance = sum(calendar_data[(calendar_data['String_Date'] == meeting['String_Date']) & (calendar_data['Calendar event ID'].str.contains(meeting['Calendar event ID'])) & (calendar_data['User Type'] == mentee_identifier)]['Attendance'].tolist())\n",
        "\n",
        "  #if session was productive\n",
        "  if(mentor_attendance and mentee_attendance):\n",
        "    productive_meetings['Productive'][index] = 1\n",
        "    productive_meetings['Absent Type'][index] = NaN\n",
        "\n",
        "  #If only one particpant showed\n",
        "  elif(xor(mentor_attendance, mentee_attendance)):\n",
        "    #if only one participant joined, record as Alone Session\n",
        "    productive_meetings['Alone'][index] = 1      \n",
        "\n",
        "    #get absentee type\n",
        "    if mentee_attendance:\n",
        "      productive_meetings['Absent Type'][index] = mentor_identifier\n",
        "      productive_meetings['Absent Identifier'][index] = listToString(calendar_data[(calendar_data['String_Date'] == meeting['String_Date']) & (calendar_data['Calendar event ID'].str.contains(meeting['Calendar event ID'])) & (calendar_data['User Type'] == mentor_identifier)]['Participant Identifier'].tolist())\n",
        "    else:\n",
        "      if mentor_attendance:\n",
        "        productive_meetings['Absent Type'][index] = mentee_identifier\n",
        "        productive_meetings['Absent Identifier'][index] = listToString(calendar_data[(calendar_data['String_Date'] == meeting['String_Date']) & (calendar_data['Calendar event ID'].str.contains(meeting['Calendar event ID'])) & (calendar_data['User Type'] == mentee_identifier)]['Participant Identifier'].tolist())\n",
        "\n",
        "  #if no one showed\n",
        "  if(not productive_meetings['Productive'][index] and not productive_meetings['Alone'][index]):\n",
        "    productive_meetings['Absent Type'][index] = NaN\n",
        "\n",
        "      \n",
        "      #productive_meetings['Absent Type'][index] = (mentor_identifier if mentee_attendance else (mentee_identifier if mentor_attendance else NaN))\n",
        "    "
      ],
      "metadata": {
        "id": "iMjBoEw_dNQL",
        "colab": {
          "base_uri": "https://localhost:8080/"
        },
        "outputId": "61a31669-b460-4c1f-8e48-0e066c0ac189"
      },
      "execution_count": 64,
      "outputs": [
        {
          "output_type": "stream",
          "name": "stderr",
          "text": [
            "/usr/local/lib/python3.7/dist-packages/ipykernel_launcher.py:29: SettingWithCopyWarning: \n",
            "A value is trying to be set on a copy of a slice from a DataFrame\n",
            "\n",
            "See the caveats in the documentation: https://pandas.pydata.org/pandas-docs/stable/user_guide/indexing.html#returning-a-view-versus-a-copy\n",
            "/usr/local/lib/python3.7/dist-packages/ipykernel_launcher.py:16: SettingWithCopyWarning: \n",
            "A value is trying to be set on a copy of a slice from a DataFrame\n",
            "\n",
            "See the caveats in the documentation: https://pandas.pydata.org/pandas-docs/stable/user_guide/indexing.html#returning-a-view-versus-a-copy\n",
            "  app.launch_new_instance()\n",
            "/usr/local/lib/python3.7/dist-packages/ipykernel_launcher.py:20: SettingWithCopyWarning: \n",
            "A value is trying to be set on a copy of a slice from a DataFrame\n",
            "\n",
            "See the caveats in the documentation: https://pandas.pydata.org/pandas-docs/stable/user_guide/indexing.html#returning-a-view-versus-a-copy\n",
            "/usr/local/lib/python3.7/dist-packages/pandas/core/indexing.py:1732: SettingWithCopyWarning: \n",
            "A value is trying to be set on a copy of a slice from a DataFrame\n",
            "\n",
            "See the caveats in the documentation: https://pandas.pydata.org/pandas-docs/stable/user_guide/indexing.html#returning-a-view-versus-a-copy\n",
            "  self._setitem_single_block(indexer, value, name)\n",
            "/usr/local/lib/python3.7/dist-packages/ipykernel_launcher.py:21: SettingWithCopyWarning: \n",
            "A value is trying to be set on a copy of a slice from a DataFrame\n",
            "\n",
            "See the caveats in the documentation: https://pandas.pydata.org/pandas-docs/stable/user_guide/indexing.html#returning-a-view-versus-a-copy\n",
            "/usr/local/lib/python3.7/dist-packages/ipykernel_launcher.py:10: SettingWithCopyWarning: \n",
            "A value is trying to be set on a copy of a slice from a DataFrame\n",
            "\n",
            "See the caveats in the documentation: https://pandas.pydata.org/pandas-docs/stable/user_guide/indexing.html#returning-a-view-versus-a-copy\n",
            "  # Remove the CWD from sys.path while we load stuff.\n"
          ]
        }
      ]
    },
    {
      "cell_type": "code",
      "source": [
        "#Concat old and new data\n",
        "productivity_data_new = pd.concat([productivity_data, productive_meetings])\n",
        "productivity_data_new = productivity_data_new.drop_duplicates(['String_Date', 'Calendar event ID'], keep='last')"
      ],
      "metadata": {
        "id": "YVL_IW9KlIYU"
      },
      "execution_count": 65,
      "outputs": []
    },
    {
      "cell_type": "code",
      "source": [
        "print(productivity_data_new.shape, productivity_data.shape, productive_meetings.shape)"
      ],
      "metadata": {
        "id": "6LaliFyeld7b",
        "colab": {
          "base_uri": "https://localhost:8080/"
        },
        "outputId": "0ccfc3ba-e6ea-4359-db37-2b84f171b60b"
      },
      "execution_count": 66,
      "outputs": [
        {
          "output_type": "stream",
          "name": "stdout",
          "text": [
            "(5425, 9) (5425, 9) (276, 9)\n"
          ]
        }
      ]
    },
    {
      "cell_type": "markdown",
      "source": [
        "# STORING PRODUCTIVE MEETINGS"
      ],
      "metadata": {
        "id": "egp3ozWJiCqB"
      }
    },
    {
      "cell_type": "code",
      "source": [
        "#Create data frame and store\n",
        "#TODO: write to complete list of all attendance data; over write any redundant data\n",
        "file_name = 'all_productivity_data.csv'\n",
        "productivity_data_new.to_csv(file_name, index = False)"
      ],
      "metadata": {
        "id": "mDl-g0QyiGJx"
      },
      "execution_count": 67,
      "outputs": []
    },
    {
      "cell_type": "markdown",
      "source": [
        "#SAVING DATAFRAMES AS GOOGLE SHEETS"
      ],
      "metadata": {
        "id": "agtSKw1U4DBh"
      }
    },
    {
      "cell_type": "code",
      "source": [
        "#Sheet Info\n",
        "spreadsheet_key = attendance_spreadsheet_key\n",
        "workbook = gc.open_by_key(spreadsheet_key)\n",
        "\n",
        "#Converting datetimes to string\n",
        "attendance_data_new['Start Datetime'] = attendance_data_new['Start Datetime'].astype(str)\n",
        "attendance_data_new['End Datetime'] = attendance_data_new['End Datetime'].astype(str)\n",
        "calendar_data.fillna('', inplace=True)\n",
        "\n",
        "\n",
        "#Writing dataframe to google sheet\n",
        "workbook.values_update(\n",
        "  'sheet1!A1',\n",
        "  params={\n",
        "      'valueInputOption': 'USER_ENTERED'\n",
        "  },\n",
        "  body={\n",
        "      'values': [attendance_data_new.columns.values.tolist()] + attendance_data_new.values.tolist()\n",
        "  }\n",
        ")"
      ],
      "metadata": {
        "colab": {
          "base_uri": "https://localhost:8080/"
        },
        "id": "1Rr2SH8HB1yK",
        "outputId": "f2015098-f6e0-46f1-8108-2f253b1f3917"
      },
      "execution_count": 68,
      "outputs": [
        {
          "output_type": "execute_result",
          "data": {
            "text/plain": [
              "{'spreadsheetId': '15k8uMwE3QnZSZpLZW-4CcBgegUy2KB4XQxmkIz8RVCU',\n",
              " 'updatedCells': 436920,\n",
              " 'updatedColumns': 20,\n",
              " 'updatedRange': 'Sheet1!A1:T21846',\n",
              " 'updatedRows': 21846}"
            ]
          },
          "metadata": {},
          "execution_count": 68
        }
      ]
    },
    {
      "cell_type": "code",
      "source": [
        "#Sheet Info\n",
        "spreadsheet_key = productivity_spreadsheet_key\n",
        "workbook = gc.open_by_key(spreadsheet_key)\n",
        "\n",
        "#Replace all NaN's with empty string\n",
        "productivity_data_new.fillna('', inplace=True)\n",
        "productivity_data_new['Start Datetime'] = productivity_data_new['Start Datetime'].astype(str)\n",
        "\n",
        "#Writing to google sheet\n",
        "workbook.values_update(\n",
        "  'sheet1!A1',\n",
        "  params={\n",
        "      'valueInputOption': 'USER_ENTERED'\n",
        "  },\n",
        "  body={\n",
        "      'values': [productivity_data_new.columns.values.tolist()] + productivity_data_new.values.tolist()\n",
        "  }\n",
        ")"
      ],
      "metadata": {
        "id": "7mzlbUDu4A1b",
        "colab": {
          "base_uri": "https://localhost:8080/"
        },
        "outputId": "e6e64a69-b039-47fb-e4f8-965219f805d6"
      },
      "execution_count": 69,
      "outputs": [
        {
          "output_type": "execute_result",
          "data": {
            "text/plain": [
              "{'spreadsheetId': '1oDosLs6cbSCSyj9j6oIcBJWcKT0u4-DzHvHC3L117RM',\n",
              " 'updatedCells': 48834,\n",
              " 'updatedColumns': 9,\n",
              " 'updatedRange': 'Sheet1!A1:I5426',\n",
              " 'updatedRows': 5426}"
            ]
          },
          "metadata": {},
          "execution_count": 69
        }
      ]
    }
  ]
}